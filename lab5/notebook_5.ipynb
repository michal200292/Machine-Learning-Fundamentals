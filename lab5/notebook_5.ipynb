{
 "cells": [
  {
   "cell_type": "markdown",
   "metadata": {},
   "source": [
    "# Klasyfikacja niezbalansowana i anomaly detection"
   ]
  },
  {
   "cell_type": "markdown",
   "metadata": {},
   "source": [
    "Poza standardowymi narzędziami do klasyfikacji tabelarycznej użyjemy bibliotek:\n",
    "1. [Imbalanced-learn](https://imbalanced-learn.org/stable/index.html) - biblioteka implementująca różne algorytmy undersamplingu i oversamplingu\n",
    "2. [PyOD](https://pyod.readthedocs.io/en/latest/index.html) - biblioteka implementująca mnóstwo algorytmów outlier detection\n",
    "3. [XGBoost](https://xgboost.readthedocs.io/en/stable/) - oficjalna implementacja algorytmu XGBoost"
   ]
  },
  {
   "cell_type": "code",
   "execution_count": 1,
   "metadata": {
    "ExecuteTime": {
     "end_time": "2024-05-06T20:58:44.888143Z",
     "start_time": "2024-05-06T20:58:44.884073Z"
    }
   },
   "outputs": [],
   "source": [
    "import matplotlib.pyplot as plt\n",
    "import numpy as np\n",
    "import pandas as pd"
   ]
  },
  {
   "cell_type": "markdown",
   "metadata": {},
   "source": [
    "## Klasyfikacja umiarkowanie niezbalansowana"
   ]
  },
  {
   "cell_type": "markdown",
   "metadata": {},
   "source": [
    "Najpierw wykorzystamy zbiór danych [Polish companies bankruptcy](https://archive.ics.uci.edu/ml/datasets/Polish+companies+bankruptcy+data). Dotyczy on klasyfikacji, na podstawie danych z raportów finansowych, czy firma zbankrutuje w ciągu najbliższych kilku lat. Jest to zadanie szczególnie istotne dla banków, funduszy inwestycyjnych, firm ubezpieczeniowych itp., które z tego powodu zatrudniają licznie data scientistów. Zbiór zawiera 64 cechy, obliczone przez ekonomistów, którzy stworzyli ten zbiór, opisane na stronie UCI.\n",
    "\n",
    "Wykorzystamy podzbiór, w którym na podstawie finansowych firmy po 3 latach monitorowania chcemy przewidywać, czy firma zbankrutuje w ciągu najbliższych 3 lat. Jest to dość realistyczny horyzont czasowy, a przy tym największy z podzbiorów."
   ]
  },
  {
   "cell_type": "code",
   "execution_count": 2,
   "metadata": {
    "ExecuteTime": {
     "end_time": "2024-05-03T16:22:43.235823Z",
     "start_time": "2024-05-03T16:22:42.104029Z"
    }
   },
   "outputs": [
    {
     "data": {
      "text/html": [
       "<div>\n",
       "<style scoped>\n",
       "    .dataframe tbody tr th:only-of-type {\n",
       "        vertical-align: middle;\n",
       "    }\n",
       "\n",
       "    .dataframe tbody tr th {\n",
       "        vertical-align: top;\n",
       "    }\n",
       "\n",
       "    .dataframe thead th {\n",
       "        text-align: right;\n",
       "    }\n",
       "</style>\n",
       "<table border=\"1\" class=\"dataframe\">\n",
       "  <thead>\n",
       "    <tr style=\"text-align: right;\">\n",
       "      <th></th>\n",
       "      <th>Attr1</th>\n",
       "      <th>Attr2</th>\n",
       "      <th>Attr3</th>\n",
       "      <th>Attr4</th>\n",
       "      <th>Attr5</th>\n",
       "      <th>Attr6</th>\n",
       "      <th>Attr7</th>\n",
       "      <th>Attr8</th>\n",
       "      <th>Attr9</th>\n",
       "      <th>Attr10</th>\n",
       "      <th>...</th>\n",
       "      <th>Attr55</th>\n",
       "      <th>Attr56</th>\n",
       "      <th>Attr57</th>\n",
       "      <th>Attr58</th>\n",
       "      <th>Attr59</th>\n",
       "      <th>Attr60</th>\n",
       "      <th>Attr61</th>\n",
       "      <th>Attr62</th>\n",
       "      <th>Attr63</th>\n",
       "      <th>Attr64</th>\n",
       "    </tr>\n",
       "  </thead>\n",
       "  <tbody>\n",
       "    <tr>\n",
       "      <th>0</th>\n",
       "      <td>0.174190</td>\n",
       "      <td>0.41299</td>\n",
       "      <td>0.14371</td>\n",
       "      <td>1.3480</td>\n",
       "      <td>-28.9820</td>\n",
       "      <td>0.60383</td>\n",
       "      <td>0.219460</td>\n",
       "      <td>1.1225</td>\n",
       "      <td>1.1961</td>\n",
       "      <td>0.46359</td>\n",
       "      <td>...</td>\n",
       "      <td>127280.0</td>\n",
       "      <td>0.163960</td>\n",
       "      <td>0.375740</td>\n",
       "      <td>0.83604</td>\n",
       "      <td>0.000007</td>\n",
       "      <td>9.7145</td>\n",
       "      <td>6.2813</td>\n",
       "      <td>84.291</td>\n",
       "      <td>4.3303</td>\n",
       "      <td>4.0341</td>\n",
       "    </tr>\n",
       "    <tr>\n",
       "      <th>1</th>\n",
       "      <td>0.146240</td>\n",
       "      <td>0.46038</td>\n",
       "      <td>0.28230</td>\n",
       "      <td>1.6294</td>\n",
       "      <td>2.5952</td>\n",
       "      <td>0.00000</td>\n",
       "      <td>0.171850</td>\n",
       "      <td>1.1721</td>\n",
       "      <td>1.6018</td>\n",
       "      <td>0.53962</td>\n",
       "      <td>...</td>\n",
       "      <td>3387.8</td>\n",
       "      <td>0.027516</td>\n",
       "      <td>0.271000</td>\n",
       "      <td>0.90108</td>\n",
       "      <td>0.000000</td>\n",
       "      <td>5.9882</td>\n",
       "      <td>4.1103</td>\n",
       "      <td>102.190</td>\n",
       "      <td>3.5716</td>\n",
       "      <td>5.9500</td>\n",
       "    </tr>\n",
       "    <tr>\n",
       "      <th>2</th>\n",
       "      <td>0.000595</td>\n",
       "      <td>0.22612</td>\n",
       "      <td>0.48839</td>\n",
       "      <td>3.1599</td>\n",
       "      <td>84.8740</td>\n",
       "      <td>0.19114</td>\n",
       "      <td>0.004572</td>\n",
       "      <td>2.9881</td>\n",
       "      <td>1.0077</td>\n",
       "      <td>0.67566</td>\n",
       "      <td>...</td>\n",
       "      <td>20453.0</td>\n",
       "      <td>0.007639</td>\n",
       "      <td>0.000881</td>\n",
       "      <td>0.99236</td>\n",
       "      <td>0.000000</td>\n",
       "      <td>6.7742</td>\n",
       "      <td>3.7922</td>\n",
       "      <td>64.846</td>\n",
       "      <td>5.6287</td>\n",
       "      <td>4.4581</td>\n",
       "    </tr>\n",
       "    <tr>\n",
       "      <th>3</th>\n",
       "      <td>0.024526</td>\n",
       "      <td>0.43236</td>\n",
       "      <td>0.27546</td>\n",
       "      <td>1.7833</td>\n",
       "      <td>-10.1050</td>\n",
       "      <td>0.56944</td>\n",
       "      <td>0.024526</td>\n",
       "      <td>1.3057</td>\n",
       "      <td>1.0509</td>\n",
       "      <td>0.56453</td>\n",
       "      <td>...</td>\n",
       "      <td>5012.6</td>\n",
       "      <td>0.048398</td>\n",
       "      <td>0.043445</td>\n",
       "      <td>0.95160</td>\n",
       "      <td>0.142980</td>\n",
       "      <td>4.2286</td>\n",
       "      <td>5.0528</td>\n",
       "      <td>98.783</td>\n",
       "      <td>3.6950</td>\n",
       "      <td>3.4844</td>\n",
       "    </tr>\n",
       "    <tr>\n",
       "      <th>4</th>\n",
       "      <td>0.188290</td>\n",
       "      <td>0.41504</td>\n",
       "      <td>0.34231</td>\n",
       "      <td>1.9279</td>\n",
       "      <td>-58.2740</td>\n",
       "      <td>0.00000</td>\n",
       "      <td>0.233580</td>\n",
       "      <td>1.4094</td>\n",
       "      <td>1.3393</td>\n",
       "      <td>0.58496</td>\n",
       "      <td>...</td>\n",
       "      <td>13730.0</td>\n",
       "      <td>0.176480</td>\n",
       "      <td>0.321880</td>\n",
       "      <td>0.82635</td>\n",
       "      <td>0.073039</td>\n",
       "      <td>2.5912</td>\n",
       "      <td>7.0756</td>\n",
       "      <td>100.540</td>\n",
       "      <td>3.6303</td>\n",
       "      <td>4.6375</td>\n",
       "    </tr>\n",
       "  </tbody>\n",
       "</table>\n",
       "<p>5 rows × 64 columns</p>\n",
       "</div>"
      ],
      "text/plain": [
       "      Attr1    Attr2    Attr3   Attr4    Attr5    Attr6     Attr7   Attr8  \\\n",
       "0  0.174190  0.41299  0.14371  1.3480 -28.9820  0.60383  0.219460  1.1225   \n",
       "1  0.146240  0.46038  0.28230  1.6294   2.5952  0.00000  0.171850  1.1721   \n",
       "2  0.000595  0.22612  0.48839  3.1599  84.8740  0.19114  0.004572  2.9881   \n",
       "3  0.024526  0.43236  0.27546  1.7833 -10.1050  0.56944  0.024526  1.3057   \n",
       "4  0.188290  0.41504  0.34231  1.9279 -58.2740  0.00000  0.233580  1.4094   \n",
       "\n",
       "    Attr9   Attr10  ...    Attr55    Attr56    Attr57   Attr58    Attr59  \\\n",
       "0  1.1961  0.46359  ...  127280.0  0.163960  0.375740  0.83604  0.000007   \n",
       "1  1.6018  0.53962  ...    3387.8  0.027516  0.271000  0.90108  0.000000   \n",
       "2  1.0077  0.67566  ...   20453.0  0.007639  0.000881  0.99236  0.000000   \n",
       "3  1.0509  0.56453  ...    5012.6  0.048398  0.043445  0.95160  0.142980   \n",
       "4  1.3393  0.58496  ...   13730.0  0.176480  0.321880  0.82635  0.073039   \n",
       "\n",
       "   Attr60  Attr61   Attr62  Attr63  Attr64  \n",
       "0  9.7145  6.2813   84.291  4.3303  4.0341  \n",
       "1  5.9882  4.1103  102.190  3.5716  5.9500  \n",
       "2  6.7742  3.7922   64.846  5.6287  4.4581  \n",
       "3  4.2286  5.0528   98.783  3.6950  3.4844  \n",
       "4  2.5912  7.0756  100.540  3.6303  4.6375  \n",
       "\n",
       "[5 rows x 64 columns]"
      ]
     },
     "execution_count": 2,
     "metadata": {},
     "output_type": "execute_result"
    }
   ],
   "source": [
    "from scipy.io import arff\n",
    "\n",
    "data = arff.loadarff(\"polish_companies_bankruptcy_3_year_data.arff\")\n",
    "\n",
    "df = pd.DataFrame(data[0])\n",
    "y = df.pop(\"class\").astype(int)\n",
    "\n",
    "df.head()"
   ]
  },
  {
   "cell_type": "markdown",
   "metadata": {},
   "source": [
    "**Zadanie 1 (1 punkt)**\n",
    "\n",
    "1. Zwizualizuj ilość brakujących danych na wykresie słupkowym (bar plot).\n",
    "2. Zwizualizuj rozkład klas na wykresie.\n",
    "3. Usuń cechę `Attr37`, mającą dużo wartości brakujących.\n",
    "4. Dokonaj podziału na zbiór treningowy i testowy w proporcjach 75%-25%, ze stratyfikacją. Pamiętaj o `random_state=0`.\n",
    "5. Zbuduj i zastosuj pipeline (`make_pipeline`) do czyszczenia danych, składający się z:\n",
    "   - uzupełnienia wartości brakujących wartością średnią (`SimpleImputer`)\n",
    "   - standaryzacji danych (`StandardScaler`)"
   ]
  },
  {
   "cell_type": "code",
   "execution_count": 3,
   "metadata": {
    "ExecuteTime": {
     "end_time": "2024-05-03T16:22:47.189995Z",
     "start_time": "2024-05-03T16:22:44.687575Z"
    }
   },
   "outputs": [
    {
     "data": {
      "text/plain": [
       "<Axes: >"
      ]
     },
     "execution_count": 3,
     "metadata": {},
     "output_type": "execute_result"
    },
    {
     "data": {
      "image/png": "[encoded data removed]",
      "text/plain": [
       "<Figure size 1000x1000 with 3 Axes>"
      ]
     },
     "metadata": {},
     "output_type": "display_data"
    }
   ],
   "source": [
    "import missingno\n",
    "\n",
    "missingno.bar(df, figsize=(10, 10), fontsize=8)"
   ]
  },
  {
   "cell_type": "code",
   "execution_count": 4,
   "metadata": {
    "ExecuteTime": {
     "end_time": "2024-05-03T16:22:48.218285Z",
     "start_time": "2024-05-03T16:22:48.040896Z"
    }
   },
   "outputs": [
    {
     "data": {
      "image/png": "[encoded data removed]",
      "text/plain": [
       "<Figure size 640x480 with 1 Axes>"
      ]
     },
     "metadata": {},
     "output_type": "display_data"
    }
   ],
   "source": [
    "y.value_counts(normalize=True).plot.bar(\n",
    "    title=\"Class distribution\", \n",
    "    rot=0, \n",
    "    xlabel=\"Class\", \n",
    "    ylabel=\"Class percentage\"\n",
    ");"
   ]
  },
  {
   "cell_type": "code",
   "execution_count": 5,
   "metadata": {
    "ExecuteTime": {
     "end_time": "2024-05-03T16:22:48.954556Z",
     "start_time": "2024-05-03T16:22:48.934554Z"
    }
   },
   "outputs": [],
   "source": [
    "df = df.drop(\"Attr37\", axis='columns')"
   ]
  },
  {
   "cell_type": "code",
   "execution_count": 6,
   "metadata": {
    "ExecuteTime": {
     "end_time": "2024-05-03T16:22:50.148994Z",
     "start_time": "2024-05-03T16:22:49.851628Z"
    }
   },
   "outputs": [],
   "source": [
    "from sklearn.model_selection import train_test_split\n",
    "\n",
    "X_train, X_test, y_train, y_test = train_test_split(df, y, test_size=0.25, stratify=y, random_state=0)"
   ]
  },
  {
   "cell_type": "code",
   "execution_count": 7,
   "metadata": {
    "ExecuteTime": {
     "end_time": "2024-05-03T16:22:50.844204Z",
     "start_time": "2024-05-03T16:22:50.716882Z"
    }
   },
   "outputs": [],
   "source": [
    "from sklearn.impute import SimpleImputer\n",
    "from sklearn.preprocessing import StandardScaler\n",
    "from sklearn.pipeline import make_pipeline\n",
    "\n",
    "pipeline = make_pipeline(\n",
    "    SimpleImputer(strategy='mean'),\n",
    "    StandardScaler(),\n",
    ")\n",
    "\n",
    "X_train = pipeline.fit_transform(X_train)\n",
    "X_test = pipeline.transform(X_test)"
   ]
  },
  {
   "cell_type": "markdown",
   "metadata": {},
   "source": [
    "Standaryzacja była szczególnie ważna, bo metody undersamplingu i oversamplingu są oparte o najbliższych sąsiadów."
   ]
  },
  {
   "cell_type": "markdown",
   "metadata": {},
   "source": [
    "## Cost-sensitive learning i threshold tuning"
   ]
  },
  {
   "cell_type": "markdown",
   "metadata": {},
   "source": [
    "Jako naszego algorytmu użyjemy lasu losowego (Random Forest). Dla przypomnienia, jest on oparty o **uczenie zespołowe (ensemble learning)**, w którym uśredniamy decyzje wielu klasyfikatorów bazowych. Są to drzewa decyzyjne. Losujemy w nim **próbki bootstrapowe (bootstrap samples)**, czyli losujemy z powtórzeniami tyle punktów, ile wynosi rozmiar naszego zbioru. Dla każdej losujemy także podzbiór cech, typowo tyle, ile wynosi pierwiastek kwadratowy z liczby wszystkich cech. Następnie trenujemy drzewa decyzyjne na takich wylosowanych podzbiorach. Decyzja klasyfikatora jest podejmowana przez głosowanie drzew (w klasyfikacji) lub ich uśrednienie (w regresji).\n",
    "\n",
    "W wielu zastosowaniach dużą zaletą lasów losowych jest ich niska podatność na tuning hiperparametrów, tzw. **tunability**. Algorytmy o wysokim tunability (np. SVM) są podatne na dobór hiperparametrów i wymagają jego zastosowania, żeby osiągnąć dobre wyniki. Random Forest działa typowo doskonale z domyślnymi hiperparametrami, co najwyżej warto czasem ustawić większą liczbę drzew, niż domyślna. Ciekawe artykuły w tej kwestii to:\n",
    "\n",
    "> Probst, Philipp, Anne-Laure Boulesteix, and Bernd Bischl. *\"Tunability: Importance of hyperparameters of machine learning algorithms.\"* The Journal of Machine Learning Research 20.1 (2019): 1934-1965. [link](https://www.jmlr.org/papers/volume20/18-444/18-444.pdf)\n",
    "\n",
    "> Probst, Philipp, Marvin N. Wright, and Anne‐Laure Boulesteix. *\"Hyperparameters and tuning strategies for random forest.\"* Wiley Interdisciplinary Reviews: data mining and knowledge discovery 9.3 (2019): e1301. [link](https://arxiv.org/pdf/1804.03515.pdf)\n",
    "\n",
    "Dzięki wykorzystaniu Random Forest zasadniczo nie będziemy potrzebować tuningu hiperparametrów dla klasyfikatora. Nadaje się też dobrze do klasyfikacji niezbalansowanej: drzewa decyzyjne łatwo integrują ważenie klas w proces treningu, a uśrednianie decyzji mocno zmniejsza wariancję błędu.\n",
    "\n",
    "Ze względu na niezbalansowanie zbioru, które jest znaczące, ale nie ekstremalne, wykorzystamy dwie metryki: AUROC oraz F1-score. Ta druga będzie przydatna przy **threshold tuningu**."
   ]
  },
  {
   "cell_type": "code",
   "execution_count": 8,
   "metadata": {
    "ExecuteTime": {
     "end_time": "2024-05-03T16:22:55.778619Z",
     "start_time": "2024-05-03T16:22:53.297592Z"
    }
   },
   "outputs": [
    {
     "name": "stdout",
     "output_type": "stream",
     "text": [
      "AUROC: 87.39%\n",
      "F1-score: 31.37%\n"
     ]
    }
   ],
   "source": [
    "from sklearn.ensemble import RandomForestClassifier\n",
    "from sklearn.metrics import f1_score, roc_auc_score\n",
    "\n",
    "\n",
    "clf_rf = RandomForestClassifier(random_state=0, n_jobs=-1)\n",
    "clf_rf.fit(X_train, y_train)\n",
    "\n",
    "y_pred = clf_rf.predict(X_test)\n",
    "y_pred_score = clf_rf.predict_proba(X_test)[:, 1]\n",
    "\n",
    "auroc = roc_auc_score(y_test, y_pred_score)\n",
    "f1 = f1_score(y_test, y_pred)\n",
    "\n",
    "print(f\"AUROC: {100 * auroc:.2f}%\")\n",
    "print(f\"F1-score: {100 * f1:.2f}%\")"
   ]
  },
  {
   "cell_type": "markdown",
   "metadata": {},
   "source": [
    "AUROC wydaje się niezłe, ale F1-score pozostawia wiele do życzenia. Zobaczmy, czy **cost-sensitive learning** coś zmieni. Skorzystamy z domyślnej heurystyki do ważenia klas `\"balanced\"`."
   ]
  },
  {
   "cell_type": "code",
   "execution_count": 9,
   "metadata": {
    "ExecuteTime": {
     "end_time": "2024-05-03T16:22:59.968145Z",
     "start_time": "2024-05-03T16:22:57.649909Z"
    }
   },
   "outputs": [
    {
     "name": "stdout",
     "output_type": "stream",
     "text": [
      "AUROC: 89.30%\n",
      "F1-score: 28.00%\n"
     ]
    }
   ],
   "source": [
    "clf_rf_csl = RandomForestClassifier(class_weight=\"balanced\", random_state=0, n_jobs=-1)\n",
    "clf_rf_csl.fit(X_train, y_train)\n",
    "\n",
    "y_pred = clf_rf_csl.predict(X_test)\n",
    "y_pred_score = clf_rf_csl.predict_proba(X_test)[:, 1]\n",
    "\n",
    "auroc = roc_auc_score(y_test, y_pred_score)\n",
    "f1 = f1_score(y_test, y_pred)\n",
    "\n",
    "print(f\"AUROC: {100 * auroc:.2f}%\")\n",
    "print(f\"F1-score: {100 * f1:.2f}%\")"
   ]
  },
  {
   "cell_type": "markdown",
   "metadata": {},
   "source": [
    "Jedna metryka rośnie, druga maleje - tak też się może zdarzyć. Takie sytuacje są zawsze ciekawe, bo pokazują różne aspekty tego, jak radzi sobie nasz klasyfikator. F1-score łączy precyzję i czułość, więc warto przeanalizować to głębiej."
   ]
  },
  {
   "cell_type": "code",
   "execution_count": 10,
   "metadata": {
    "ExecuteTime": {
     "end_time": "2024-05-03T16:23:01.378273Z",
     "start_time": "2024-05-03T16:23:01.186200Z"
    }
   },
   "outputs": [
    {
     "name": "stdout",
     "output_type": "stream",
     "text": [
      "RF\n",
      "  Precision: 82.76%\n",
      "  Recall: 19.35%\n",
      "\n",
      "RF with cost-sensitive learning\n",
      "  Precision: 80.77%\n",
      "  Recall: 16.94%\n"
     ]
    }
   ],
   "source": [
    "from sklearn.metrics import precision_score, recall_score\n",
    "\n",
    "print(\"RF\")\n",
    "rf_precision = precision_score(y_test, clf_rf.predict(X_test))\n",
    "rf_recall = recall_score(y_test, clf_rf.predict(X_test))\n",
    "print(f\"  Precision: {100 * rf_precision:.2f}%\")\n",
    "print(f\"  Recall: {100 * rf_recall:.2f}%\")\n",
    "\n",
    "print()\n",
    "\n",
    "print(\"RF with cost-sensitive learning\")\n",
    "rf_csl_precision = precision_score(y_test, clf_rf_csl.predict(X_test))\n",
    "rf_csl_recall = recall_score(y_test, clf_rf_csl.predict(X_test))\n",
    "print(f\"  Precision: {100 * rf_csl_precision:.2f}%\")\n",
    "print(f\"  Recall: {100 * rf_csl_recall:.2f}%\")"
   ]
  },
  {
   "cell_type": "markdown",
   "metadata": {},
   "source": [
    "Z cost-sensitive learningiem predykcje prawdopodobieństwa co prawda są lepsze (bo mamy wyższy AUROC), ale i precyzja, i czułość spadły. No i w obu przypadkach mamy naprawdę niski recall!\n",
    "\n",
    "Coś trzeba z tym zrobić. Skoro F1-score to metryka binarna, to najłatwiej zmienić próg klasy pozytywnej, czyli zrobić threshold tuning."
   ]
  },
  {
   "cell_type": "markdown",
   "metadata": {},
   "source": [
    "**Zadanie 2 (1.5 punktu)**\n",
    "\n",
    "Zaimplementuj threshold tuning z pomocą walidacji skrośnej. Skorzystaj z funkcji `thresholded_f1_score()`, która jest gotową metryką, obliczającą F1-score dla podanych prawdopodobieństw klasy pozytywnej i progu klasyfikacji.\n",
    "\n",
    "1. Stwórz listę progów [0.1, 0.15, 0.2, .., 0.5]\n",
    "2. Dla każdego progu stwórz nowy obiekt metryki z pomocą funkcji `make_scorer()`. Pamiętaj, że większa wartość jest lepsza i potrzebujemy prawdopodobieństw. Trzeba też podać wartość dla naszego progu (`threshold`) z pomocą `**kwargs`.\n",
    "3. Oblicz wyniki walidacji skrośnej z pomocą funkcji `cross_val_score` dla Random Forest z cost-sensitive tuning. Wykorzystaj 5-fold CV. Funkcja ta zwraca wyniki dla wszystkich foldów - oblicz średni wynik.\n",
    "4. Zwizualizuj na wykresie wyniki F1-score dla poszczególnych progów. Pamiętaj o opisaniu osi i tytule wykresu.\n",
    "5. Dla optymalnego progu oblicz i wypisz F1-score, precision i recall. Próg, dla którego osiągnięto najwyższy F1-score, można łatwo wyciągnąć z pomocą `np.argmax()`.\n",
    "6. Skomentuj zmianę w precision i recall. Czy twoim zdaniem warto dokonać takiej zmiany w przypadku tego zbioru, tj. przewidywania, czy spółka zbankrutuje?"
   ]
  },
  {
   "cell_type": "code",
   "execution_count": 11,
   "metadata": {
    "ExecuteTime": {
     "end_time": "2024-05-03T16:23:03.125367Z",
     "start_time": "2024-05-03T16:23:03.115370Z"
    }
   },
   "outputs": [],
   "source": [
    "def thresholded_f1_score(y_true, y_score, threshold: float, **kwargs) -> float:\n",
    "    y_pred = y_score >= threshold\n",
    "    return f1_score(y_true, y_pred, **kwargs)"
   ]
  },
  {
   "cell_type": "code",
   "execution_count": 12,
   "metadata": {
    "ExecuteTime": {
     "end_time": "2024-05-03T16:23:52.575544Z",
     "start_time": "2024-05-03T16:23:03.772208Z"
    }
   },
   "outputs": [],
   "source": [
    "from sklearn.metrics import make_scorer\n",
    "from sklearn.model_selection import cross_val_score\n",
    "\n",
    "thresholds = np.linspace(0.1, 0.5, 9)\n",
    "f1_scores = []\n",
    "\n",
    "for threshold in thresholds:\n",
    "    scorer = make_scorer(thresholded_f1_score, response_method=\"predict_proba\", threshold=threshold, greater_is_better=True)\n",
    "    f1_cv_scores = cross_val_score(clf_rf_csl, X_train, y_train, cv=5, scoring=scorer)\n",
    "    f1_scores.append(np.mean(f1_cv_scores))"
   ]
  },
  {
   "cell_type": "code",
   "execution_count": 13,
   "metadata": {
    "ExecuteTime": {
     "end_time": "2024-05-03T16:24:05.069467Z",
     "start_time": "2024-05-03T16:24:04.881508Z"
    }
   },
   "outputs": [
    {
     "data": {
      "image/png": "[encoded data removed]",
      "text/plain": [
       "<Figure size 640x480 with 1 Axes>"
      ]
     },
     "metadata": {},
     "output_type": "display_data"
    }
   ],
   "source": [
    "plt.plot(thresholds, f1_scores)\n",
    "plt.ylabel(\"F1-score\")\n",
    "plt.xlabel(\"Threshold values\")\n",
    "plt.title(\"Cross validation F1 scores\")\n",
    "plt.show();"
   ]
  },
  {
   "cell_type": "code",
   "execution_count": 14,
   "metadata": {
    "ExecuteTime": {
     "end_time": "2024-05-03T16:24:05.737065Z",
     "start_time": "2024-05-03T16:24:05.685183Z"
    }
   },
   "outputs": [
    {
     "name": "stdout",
     "output_type": "stream",
     "text": [
      "Best threshold: 0.15\n",
      "Precision value: 42.97%\n",
      "Recall value: 44.35%\n",
      "F1 score: 43.65%\n"
     ]
    }
   ],
   "source": [
    "best_threshold = thresholds[np.argmax(f1_scores)]\n",
    "\n",
    "y_proba = clf_rf_csl.predict_proba(X_test).T[1]\n",
    "y_pred = y_proba >= best_threshold\n",
    "\n",
    "print(f\"Best threshold: {best_threshold:.2f}\")\n",
    "print(f\"Precision value: {100*precision_score(y_test, y_pred):.2f}%\")\n",
    "print(f\"Recall value: {100*recall_score(y_test, y_pred):.2f}%\")\n",
    "print(f\"F1 score: {100*f1_score(y_test, y_pred):.2f}%\")"
   ]
  },
  {
   "cell_type": "markdown",
   "metadata": {},
   "source": [
    "Według mnie, że zmiana progu jest w tym przypadku uzasadniona, gdyż w tym konkretnym zadaniu bardziej zależy nam na tym, żeby wysoki był recall, gdyż klasy pozytywnej jest bardzo mało, a także ważne jest aby wykrywać potencjalne zagrożenia dla firm."
   ]
  },
  {
   "cell_type": "markdown",
   "metadata": {},
   "source": [
    "## Undersampling, oversampling"
   ]
  },
  {
   "cell_type": "markdown",
   "metadata": {},
   "source": [
    "Być może klasa większościowa, której jest 95%, jest mocno zaszumiona i są tam przykłady, które warto byłoby usunąć. Czemu tak może być?\n",
    "\n",
    "Pamiętajmy, że klasa pozytywna to spółki, które zbankrutują w ciągu najbliższych 3 lat. Przy granicy decyzyjnej w klasie dominującej mogą być na przykład startupy o dużym ryzyku, które nie zbankrutowały, ale było to kwestią dobrej koniunktury i szczęśliwego trafu tych spółek. Równie dobrze mogłyby upaść przez niskie zasoby twarde czy rosnące koszty. Można je potraktować jak mało miarodajny szum, który tylko z przyczyn dość losowych nie stał się klasą pozytywną (tj. spółkami, które zamknęły działalność).\n",
    "\n",
    "Dla uproszczenia w tym i dalszych zadaniach skorzystamy z funkcji `assess_rf_performance()`, żeby łatwo sprawdzać AUROC i F1-score klasyfikatorów.\n",
    "\n",
    "Najpierw zastosujemy algorytm Edited Nearest Neighbors (ENN) z domyślnymi parametrami: \n",
    "- `k=3`\n",
    "- `kind_sel=\"all\"` (wszyscy sąsiedzi muszą być z klasy dominującej, aby punkt pozostał w zbiorze)\n",
    "\n",
    "Biblioteka imbalanced-learn opiera się o metodę `.fit_resample()`, która zwraca zmodyfikowany zbiór uczący (z usuniętymi/dodatkowymi próbkami). Implementuje także zmodyfikowany `Pipeline`, bo ten domyślny ze Scikit-learn nie wspierałby takiej metody. Warto pamiętać o tym, żeby tworzyć nowe zmienne dla zmodyfikowanych zbiorów, bo inaczej trzeba by wykonywać duże części notebooka na nowo."
   ]
  },
  {
   "cell_type": "code",
   "execution_count": 15,
   "metadata": {
    "ExecuteTime": {
     "end_time": "2024-05-03T16:24:07.689030Z",
     "start_time": "2024-05-03T16:24:07.681506Z"
    }
   },
   "outputs": [],
   "source": [
    "def assess_rf_performance(estimator: RandomForestClassifier, X_test, y_test) -> None:\n",
    "    y_score = estimator.predict_proba(X_test)[:, 1]\n",
    "    y_pred = estimator.predict(X_test)\n",
    "    auroc = roc_auc_score(y_test, y_score)\n",
    "    f1 = f1_score(y_test, y_pred)\n",
    "\n",
    "    print(f\"AUROC: {100 * auroc:.2f}%\")\n",
    "    print(f\"F1-score: {100 * f1:.2f}%\")"
   ]
  },
  {
   "cell_type": "code",
   "execution_count": 16,
   "metadata": {
    "ExecuteTime": {
     "end_time": "2024-05-03T16:24:10.967411Z",
     "start_time": "2024-05-03T16:24:08.293702Z"
    }
   },
   "outputs": [
    {
     "name": "stdout",
     "output_type": "stream",
     "text": [
      "Samples before ENN: 7877\n",
      "Samples after ENN: 7005\n",
      "AUROC: 87.43%\n",
      "F1-score: 24.66%\n"
     ]
    }
   ],
   "source": [
    "from imblearn.under_sampling import EditedNearestNeighbours\n",
    "\n",
    "enn = EditedNearestNeighbours()\n",
    "print(f\"Samples before ENN: {len(X_train)}\")\n",
    "X_train_enn, y_train_enn = enn.fit_resample(X_train, y_train)\n",
    "print(f\"Samples after ENN: {len(X_train_enn)}\")\n",
    "\n",
    "clf_rf_csl = RandomForestClassifier(class_weight=\"balanced\", random_state=0, n_jobs=-1)\n",
    "clf_rf_csl.fit(X_train_enn, y_train_enn)\n",
    "\n",
    "assess_rf_performance(clf_rf_csl, X_test, y_test)"
   ]
  },
  {
   "cell_type": "markdown",
   "metadata": {},
   "source": [
    "Wcześniej AUROC wynosiło 89.30%, a F1-score 28.00%. Mamy spadek obu metryk - niedobrze! Usunęliśmy jednak około 10% zbioru, może to za dużo?"
   ]
  },
  {
   "cell_type": "markdown",
   "metadata": {},
   "source": [
    "**Zadanie 3 (1.5 punktu)**\n",
    "\n",
    "1. Dokonaj tuningu hiperparametrów ENN:\n",
    "   - stwórz siatkę hiperparametrów: \n",
    "     - liczba sąsiadów: `[1, 3, 5]`\n",
    "     - tryb wyboru punktów: `[\"all\", \"mode\"]`\n",
    "   - przed użyciem `GridSearchCV` stwórz pipeline (ten z biblioteki imbalanced-learn), łączący ENN i Random Forest\n",
    "   - wybierz klasyfikator o najwyższym AUROC\n",
    "   - wykorzystaj 10-fold CV - przy zbiorach niezbalansowanych często daje to dokładniejsze oszacowanie\n",
    "   - pamiętaj, żeby podać, którego elementu pipeline'u dotyczą hiperparametry w siatce (np. `enn__n_neighbors`)\n",
    "2. Wypisz znalezione optymalne wartości hiperparametrów. Sprawdź wyniki na zbiorze testowym.\n",
    "3. Czy usuwamy punkty agresywniej, czy bardziej konwerwatywnie? Zweryfikuj swoją intuicję, sprawdzając liczność zbioru przed i po zastosowaniu ENN z optymalnymi hiperparametrami.\n",
    "4. Czy undersampling ostatecznie poprawił wynik? Czy twoim zdaniem warto tu zastosować taką technikę?"
   ]
  },
  {
   "cell_type": "code",
   "execution_count": 17,
   "metadata": {
    "ExecuteTime": {
     "end_time": "2024-05-03T16:25:38.502402Z",
     "start_time": "2024-05-03T16:24:12.731887Z"
    }
   },
   "outputs": [],
   "source": [
    "from imblearn.pipeline import Pipeline\n",
    "from sklearn.model_selection import GridSearchCV\n",
    "\n",
    "enn = EditedNearestNeighbours()\n",
    "clf_rf_csl = RandomForestClassifier(class_weight=\"balanced\", random_state=0, n_jobs=-1)\n",
    "\n",
    "pipeline = Pipeline([\n",
    "        (\"enn\", enn),\n",
    "        (\"clf_rf_csl\", clf_rf_csl)],\n",
    ")\n",
    "\n",
    "param_grid = {\n",
    "    \"enn__n_neighbors\" : [1, 3, 5],\n",
    "    \"enn__kind_sel\" : [\"all\", \"mode\"],\n",
    "}\n",
    "\n",
    "\n",
    "grid_search = GridSearchCV(pipeline, param_grid=param_grid, cv=10, scoring=\"roc_auc\")\n",
    "grid_search.fit(X_train, y_train);"
   ]
  },
  {
   "cell_type": "code",
   "execution_count": 18,
   "metadata": {
    "ExecuteTime": {
     "end_time": "2024-05-03T16:27:41.844075Z",
     "start_time": "2024-05-03T16:27:41.774864Z"
    }
   },
   "outputs": [
    {
     "name": "stdout",
     "output_type": "stream",
     "text": [
      "Optimal parameters: {'enn__kind_sel': 'mode', 'enn__n_neighbors': 5}\n",
      "AUROC: 87.45%\n",
      "F1-score: 28.19%\n"
     ]
    }
   ],
   "source": [
    "print(f\"Optimal parameters: {grid_search.best_params_}\")\n",
    "assess_rf_performance(grid_search, X_test, y_test)"
   ]
  },
  {
   "cell_type": "code",
   "execution_count": 19,
   "metadata": {
    "ExecuteTime": {
     "end_time": "2024-05-03T16:27:43.615840Z",
     "start_time": "2024-05-03T16:27:42.771609Z"
    }
   },
   "outputs": [],
   "source": [
    "X_train_resampled, y_train_resampled = grid_search.best_estimator_['enn'].fit_resample(X_train, y_train)"
   ]
  },
  {
   "cell_type": "code",
   "execution_count": 20,
   "metadata": {
    "ExecuteTime": {
     "end_time": "2024-05-03T16:27:44.745624Z",
     "start_time": "2024-05-03T16:27:44.736019Z"
    }
   },
   "outputs": [
    {
     "name": "stdout",
     "output_type": "stream",
     "text": [
      "Train set size before sampling: 7877\n",
      "Train set size after sampling: 7858\n"
     ]
    }
   ],
   "source": [
    "print(f\"Train set size before sampling: {len(X_train)}\")\n",
    "print(f\"Train set size after sampling: {len(X_train_resampled)}\")"
   ]
  },
  {
   "cell_type": "markdown",
   "metadata": {},
   "source": [
    "Dla optymalnych parametrów undersampling usunął pojedyczne próbki, a wyniki nie poprawiły się w stosunku do początkowego algorytmu, więc podejście o under-sampling raczej nie działa w tym przypadku."
   ]
  },
  {
   "cell_type": "markdown",
   "metadata": {},
   "source": [
    "Być może oversampling da nam większe korzyści, w końcu klasy pozytywnej jest naprawdę mało. Wypróbujmy najpierw SMOTE z domyślnymi hiperparametrami."
   ]
  },
  {
   "cell_type": "code",
   "execution_count": 21,
   "metadata": {
    "ExecuteTime": {
     "end_time": "2024-05-03T16:27:53.755123Z",
     "start_time": "2024-05-03T16:27:49.746859Z"
    }
   },
   "outputs": [
    {
     "name": "stdout",
     "output_type": "stream",
     "text": [
      "Samples before SMOTE: 7877\n",
      "Samples after SMOTE: 15012\n",
      "AUROC: 88.16%\n",
      "F1-score: 46.23%\n"
     ]
    }
   ],
   "source": [
    "from imblearn.over_sampling import SMOTE\n",
    "\n",
    "\n",
    "smote = SMOTE(random_state=0)\n",
    "print(f\"Samples before SMOTE: {len(X_train)}\")\n",
    "X_train_smote, y_train_smote = smote.fit_resample(X_train, y_train)\n",
    "print(f\"Samples after SMOTE: {len(X_train_smote)}\")\n",
    "\n",
    "clf_rf_csl = RandomForestClassifier(class_weight=\"balanced\", random_state=0, n_jobs=-1)\n",
    "clf_rf_csl.fit(X_train_smote, y_train_smote)\n",
    "\n",
    "assess_rf_performance(clf_rf_csl, X_test, y_test)"
   ]
  },
  {
   "cell_type": "markdown",
   "metadata": {},
   "source": [
    "Jest definitywnie lepiej! Liczba przykładów z klasy pozytywnej wzrosła bardzo mocno, ale dzięki skalowalności lasu losowego nie jest to drastycznie odczuwalne. Za to F1-score bardzo wzrósł, bo zwiększyliśmy znacząco wagę klasy mniejszościowej, i to zagęszczając ją w przestrzeni zbioru danych. Dzięki temu i FP, i FN spadną.\n",
    "\n",
    "Imbalanced-learn domyślnie generuje tyle klasy mniejszościowej, żeby było jej tyle samo, co dominującej. Prawie zawsze powoduje to overfitting - zweryfikujmy to."
   ]
  },
  {
   "cell_type": "code",
   "execution_count": 22,
   "metadata": {
    "ExecuteTime": {
     "end_time": "2024-05-03T16:27:55.226291Z",
     "start_time": "2024-05-03T16:27:55.014137Z"
    }
   },
   "outputs": [
    {
     "name": "stdout",
     "output_type": "stream",
     "text": [
      "Train metrics\n",
      "AUROC: 100.00%\n",
      "F1-score: 100.00%\n",
      "\n",
      "Test metrics\n",
      "AUROC: 88.16%\n",
      "F1-score: 46.23%\n"
     ]
    }
   ],
   "source": [
    "print(\"Train metrics\")\n",
    "assess_rf_performance(clf_rf_csl, X_train, y_train)\n",
    "print()\n",
    "print(\"Test metrics\")\n",
    "assess_rf_performance(clf_rf_csl, X_test, y_test)"
   ]
  },
  {
   "cell_type": "markdown",
   "metadata": {},
   "source": [
    "Jest to wręcz tragiczny overfitting! Definitywnie trzeba tutaj tuningu. Imbalanced-learn pozwala na to poprzez parametr `sampling_strategy`. Jeżeli jest to liczba, to oznacza stosunek liczby przykładów klasy mniejszościowej do liczby przykładów klasy większościowej po oversamplingu.\n",
    "\n",
    "Przykładowo, domyślne ustawienia odpowiadają `sampling_strategy=1`, czyli:\n",
    "\n",
    "$$\\large\n",
    "\\frac{n_{minority}}{n_{majority}} = 1 \\longrightarrow n_{minority} = n_{majority}\n",
    "$$\n",
    "\n",
    "Żeby zmniejszyć overfitting, trzeba generować mniej klasy pozytywnej, czyli zmniejszyć tę proporcję. Dodatkowo możemy zmienić wartość najbliższych sąsiadów - mniejsza liczba będzie skutkować generacją bardziej wiernych lokalnie próbek, a większa zwiększy różnorodność."
   ]
  },
  {
   "cell_type": "markdown",
   "metadata": {},
   "source": [
    "**Zadanie 4 (2 punkty)**\n",
    "\n",
    "Ze względu na koszt obliczeniowy połączenia 10-fold CV i metod opartych o sąsiedztwo można wykonać **step-wise tuning**, w którym robimy walidację skrośną po kolei dla parametrów, zamiast sprawdzać wszystkie kombinacje po kolei. Nie daje to gwarancji optymalności, ale typowo działa bardzo dobrze, a przy tym jest dużo szybsze. Jest to typowo stosowane w boostingu, który ma bardzo dużo hiperparametrów, ale także przy innych kosztownych algorytmach. Dobrze opisuje to [ten artykuł](https://medium.com/optuna/lightgbm-tuner-new-optuna-integration-for-hyperparameter-optimization-8b7095e99258).\n",
    "\n",
    "Dokonaj po kolei tuningu:\n",
    "- liczby sąsiadów w SMOTE w zakresie `[1, 2, 3, 4, 5]`\n",
    "- ilości klasy pozytywnej w zakresie od 0.25 do 1 z krokiem 0.25 (może się przydać `np.linspace()` albo  `np.arange()`)\n",
    "\n",
    "Zwróć uwagę na:\n",
    "- 10-fold CV\n",
    "- ustawienie `random_state=0`\n",
    "- przyda się ustawić `verbose=4`, żeby mieć logi z wykonania, bo będzie się to chwilę liczyć\n",
    "\n",
    "Sprawdź wyniki obu pipeline'ów (z osobna) na zbiorze treningowym oraz testowym. Wytrenuj także łączny pipeline, wykorzystując oba znalezione parametry naraz, i sprawdź jego wyniki.\n",
    "\n",
    "Pamiętaj, że nie trzeba przetrenowywać klasyfikatorów na finalnych hiperparametrach - obiekt `GridSearchCV` też ma metodę `.predict()`, w któryj pod spodem użyje modelu z najlepszymi znalezionymi wartościami hiperparametrów.\n",
    "\n",
    "Skomentuj:\n",
    "- czy wynik się poprawił?\n",
    "- czy zmniejszono lub wyeliminowano overfitting w którymś przypadku?\n",
    "- czy warto było tune'ować oba parametry?\n",
    "- czy połączenie parametrów poprawiło wynik?\n",
    "\n",
    "Oszacuj, ile wolniej wykonywałby się grid search na pełnej, kwadratowej siatce hiperparametrów. Oblicz liczbę modeli, którą trzeba by wytrenować w obu przypadkach (step-wise oraz na pełnej siatce) przy 10-fold CV, i przyjmij stały średni czas na jeden fold według logów z treningu."
   ]
  },
  {
   "cell_type": "code",
   "execution_count": 23,
   "metadata": {
    "ExecuteTime": {
     "end_time": "2024-05-03T16:30:40.099123Z",
     "start_time": "2024-05-03T16:27:59.385593Z"
    },
    "scrolled": true
   },
   "outputs": [
    {
     "name": "stdout",
     "output_type": "stream",
     "text": [
      "Fitting 10 folds for each of 5 candidates, totalling 50 fits\n",
      "[CV 1/10] END .............smote__k_neighbors=1;, score=0.849 total time=   3.0s\n",
      "[CV 2/10] END .............smote__k_neighbors=1;, score=0.874 total time=   3.0s\n",
      "[CV 3/10] END .............smote__k_neighbors=1;, score=0.835 total time=   3.0s\n",
      "[CV 4/10] END .............smote__k_neighbors=1;, score=0.891 total time=   3.0s\n",
      "[CV 5/10] END .............smote__k_neighbors=1;, score=0.872 total time=   3.2s\n",
      "[CV 6/10] END .............smote__k_neighbors=1;, score=0.900 total time=   3.0s\n",
      "[CV 7/10] END .............smote__k_neighbors=1;, score=0.916 total time=   3.0s\n",
      "[CV 8/10] END .............smote__k_neighbors=1;, score=0.901 total time=   3.0s\n",
      "[CV 9/10] END .............smote__k_neighbors=1;, score=0.863 total time=   2.9s\n",
      "[CV 10/10] END ............smote__k_neighbors=1;, score=0.846 total time=   3.1s\n",
      "[CV 1/10] END .............smote__k_neighbors=2;, score=0.841 total time=   2.9s\n",
      "[CV 2/10] END .............smote__k_neighbors=2;, score=0.866 total time=   3.1s\n",
      "[CV 3/10] END .............smote__k_neighbors=2;, score=0.842 total time=   3.0s\n",
      "[CV 4/10] END .............smote__k_neighbors=2;, score=0.880 total time=   3.1s\n",
      "[CV 5/10] END .............smote__k_neighbors=2;, score=0.893 total time=   3.0s\n",
      "[CV 6/10] END .............smote__k_neighbors=2;, score=0.907 total time=   3.0s\n",
      "[CV 7/10] END .............smote__k_neighbors=2;, score=0.929 total time=   3.0s\n",
      "[CV 8/10] END .............smote__k_neighbors=2;, score=0.892 total time=   3.1s\n",
      "[CV 9/10] END .............smote__k_neighbors=2;, score=0.870 total time=   3.0s\n",
      "[CV 10/10] END ............smote__k_neighbors=2;, score=0.849 total time=   3.2s\n",
      "[CV 1/10] END .............smote__k_neighbors=3;, score=0.883 total time=   3.5s\n",
      "[CV 2/10] END .............smote__k_neighbors=3;, score=0.862 total time=   3.1s\n",
      "[CV 3/10] END .............smote__k_neighbors=3;, score=0.834 total time=   3.1s\n",
      "[CV 4/10] END .............smote__k_neighbors=3;, score=0.897 total time=   3.1s\n",
      "[CV 5/10] END .............smote__k_neighbors=3;, score=0.882 total time=   3.0s\n",
      "[CV 6/10] END .............smote__k_neighbors=3;, score=0.907 total time=   3.1s\n",
      "[CV 7/10] END .............smote__k_neighbors=3;, score=0.918 total time=   3.1s\n",
      "[CV 8/10] END .............smote__k_neighbors=3;, score=0.885 total time=   3.0s\n",
      "[CV 9/10] END .............smote__k_neighbors=3;, score=0.863 total time=   3.0s\n",
      "[CV 10/10] END ............smote__k_neighbors=3;, score=0.846 total time=   3.1s\n",
      "[CV 1/10] END .............smote__k_neighbors=4;, score=0.873 total time=   3.0s\n",
      "[CV 2/10] END .............smote__k_neighbors=4;, score=0.857 total time=   3.0s\n",
      "[CV 3/10] END .............smote__k_neighbors=4;, score=0.852 total time=   3.0s\n",
      "[CV 4/10] END .............smote__k_neighbors=4;, score=0.891 total time=   3.0s\n",
      "[CV 5/10] END .............smote__k_neighbors=4;, score=0.878 total time=   3.0s\n",
      "[CV 6/10] END .............smote__k_neighbors=4;, score=0.893 total time=   3.0s\n",
      "[CV 7/10] END .............smote__k_neighbors=4;, score=0.919 total time=   3.0s\n",
      "[CV 8/10] END .............smote__k_neighbors=4;, score=0.906 total time=   3.0s\n",
      "[CV 9/10] END .............smote__k_neighbors=4;, score=0.857 total time=   3.0s\n",
      "[CV 10/10] END ............smote__k_neighbors=4;, score=0.832 total time=   3.0s\n",
      "[CV 1/10] END .............smote__k_neighbors=5;, score=0.875 total time=   3.0s\n",
      "[CV 2/10] END .............smote__k_neighbors=5;, score=0.861 total time=   3.0s\n",
      "[CV 3/10] END .............smote__k_neighbors=5;, score=0.838 total time=   3.2s\n",
      "[CV 4/10] END .............smote__k_neighbors=5;, score=0.893 total time=   3.0s\n",
      "[CV 5/10] END .............smote__k_neighbors=5;, score=0.864 total time=   3.0s\n",
      "[CV 6/10] END .............smote__k_neighbors=5;, score=0.905 total time=   3.0s\n",
      "[CV 7/10] END .............smote__k_neighbors=5;, score=0.905 total time=   3.0s\n",
      "[CV 8/10] END .............smote__k_neighbors=5;, score=0.898 total time=   3.0s\n",
      "[CV 9/10] END .............smote__k_neighbors=5;, score=0.867 total time=   3.0s\n",
      "[CV 10/10] END ............smote__k_neighbors=5;, score=0.829 total time=   3.1s\n",
      "CPU times: total: 9min 56s\n",
      "Wall time: 2min 40s\n"
     ]
    }
   ],
   "source": [
    "%%time\n",
    "\n",
    "pipeline = Pipeline([\n",
    "    (\"smote\", SMOTE(random_state=0)),\n",
    "    (\"cls\", RandomForestClassifier(class_weight=\"balanced\", random_state=0, n_jobs=-1)),\n",
    "])\n",
    "\n",
    "param_grid = {\n",
    "    \"smote__k_neighbors\" : [1, 2, 3, 4, 5]\n",
    "}\n",
    "\n",
    "grid_search = GridSearchCV(pipeline, param_grid=param_grid, cv=10, scoring=\"roc_auc\", verbose=4)\n",
    "grid_search.fit(X_train, y_train);"
   ]
  },
  {
   "cell_type": "code",
   "execution_count": 24,
   "metadata": {
    "ExecuteTime": {
     "end_time": "2024-05-03T16:30:53.622043Z",
     "start_time": "2024-05-03T16:30:53.612713Z"
    }
   },
   "outputs": [
    {
     "name": "stdout",
     "output_type": "stream",
     "text": [
      "Optimal value of neighbors: 3\n"
     ]
    }
   ],
   "source": [
    "opt_k_neighbors = grid_search.best_params_[\"smote__k_neighbors\"]\n",
    "print(f\"Optimal value of neighbors: {opt_k_neighbors}\")"
   ]
  },
  {
   "cell_type": "code",
   "execution_count": 25,
   "metadata": {
    "ExecuteTime": {
     "end_time": "2024-05-03T16:30:55.289970Z",
     "start_time": "2024-05-03T16:30:54.979284Z"
    }
   },
   "outputs": [
    {
     "name": "stdout",
     "output_type": "stream",
     "text": [
      "Train metrics\n",
      "AUROC: 100.00%\n",
      "F1-score: 100.00%\n",
      "\n",
      "Test metrics\n",
      "AUROC: 89.38%\n",
      "F1-score: 49.52%\n"
     ]
    }
   ],
   "source": [
    "print(\"Train metrics\")\n",
    "assess_rf_performance(grid_search, X_train, y_train)\n",
    "print()\n",
    "print(\"Test metrics\")\n",
    "assess_rf_performance(grid_search, X_test, y_test)"
   ]
  },
  {
   "cell_type": "code",
   "execution_count": 26,
   "metadata": {
    "ExecuteTime": {
     "end_time": "2024-05-03T16:32:40.072482Z",
     "start_time": "2024-05-03T16:30:56.069795Z"
    }
   },
   "outputs": [
    {
     "name": "stdout",
     "output_type": "stream",
     "text": [
      "Fitting 10 folds for each of 4 candidates, totalling 40 fits\n",
      "[CV 1/10] END ....smote__sampling_strategy=0.25;, score=0.873 total time=   2.7s\n",
      "[CV 2/10] END ....smote__sampling_strategy=0.25;, score=0.860 total time=   1.7s\n",
      "[CV 3/10] END ....smote__sampling_strategy=0.25;, score=0.817 total time=   1.6s\n",
      "[CV 4/10] END ....smote__sampling_strategy=0.25;, score=0.914 total time=   1.6s\n",
      "[CV 5/10] END ....smote__sampling_strategy=0.25;, score=0.884 total time=   1.7s\n",
      "[CV 6/10] END ....smote__sampling_strategy=0.25;, score=0.902 total time=   1.7s\n",
      "[CV 7/10] END ....smote__sampling_strategy=0.25;, score=0.919 total time=   1.6s\n",
      "[CV 8/10] END ....smote__sampling_strategy=0.25;, score=0.890 total time=   1.6s\n",
      "[CV 9/10] END ....smote__sampling_strategy=0.25;, score=0.878 total time=   1.6s\n",
      "[CV 10/10] END ...smote__sampling_strategy=0.25;, score=0.828 total time=   2.0s\n",
      "[CV 1/10] END .....smote__sampling_strategy=0.5;, score=0.857 total time=   2.8s\n",
      "[CV 2/10] END .....smote__sampling_strategy=0.5;, score=0.854 total time=   2.4s\n",
      "[CV 3/10] END .....smote__sampling_strategy=0.5;, score=0.837 total time=   2.3s\n",
      "[CV 4/10] END .....smote__sampling_strategy=0.5;, score=0.898 total time=   2.1s\n",
      "[CV 5/10] END .....smote__sampling_strategy=0.5;, score=0.881 total time=   2.2s\n",
      "[CV 6/10] END .....smote__sampling_strategy=0.5;, score=0.903 total time=   2.2s\n",
      "[CV 7/10] END .....smote__sampling_strategy=0.5;, score=0.914 total time=   2.1s\n",
      "[CV 8/10] END .....smote__sampling_strategy=0.5;, score=0.895 total time=   2.2s\n",
      "[CV 9/10] END .....smote__sampling_strategy=0.5;, score=0.876 total time=   2.1s\n",
      "[CV 10/10] END ....smote__sampling_strategy=0.5;, score=0.842 total time=   2.1s\n",
      "[CV 1/10] END ....smote__sampling_strategy=0.75;, score=0.865 total time=   2.6s\n",
      "[CV 2/10] END ....smote__sampling_strategy=0.75;, score=0.867 total time=   2.6s\n",
      "[CV 3/10] END ....smote__sampling_strategy=0.75;, score=0.840 total time=   2.6s\n",
      "[CV 4/10] END ....smote__sampling_strategy=0.75;, score=0.898 total time=   2.7s\n",
      "[CV 5/10] END ....smote__sampling_strategy=0.75;, score=0.868 total time=   2.7s\n",
      "[CV 6/10] END ....smote__sampling_strategy=0.75;, score=0.897 total time=   2.7s\n",
      "[CV 7/10] END ....smote__sampling_strategy=0.75;, score=0.914 total time=   2.9s\n",
      "[CV 8/10] END ....smote__sampling_strategy=0.75;, score=0.891 total time=   2.7s\n",
      "[CV 9/10] END ....smote__sampling_strategy=0.75;, score=0.863 total time=   2.6s\n",
      "[CV 10/10] END ...smote__sampling_strategy=0.75;, score=0.816 total time=   2.6s\n",
      "[CV 1/10] END .......smote__sampling_strategy=1;, score=0.875 total time=   3.0s\n",
      "[CV 2/10] END .......smote__sampling_strategy=1;, score=0.861 total time=   3.0s\n",
      "[CV 3/10] END .......smote__sampling_strategy=1;, score=0.838 total time=   3.2s\n",
      "[CV 4/10] END .......smote__sampling_strategy=1;, score=0.893 total time=   3.2s\n",
      "[CV 5/10] END .......smote__sampling_strategy=1;, score=0.864 total time=   3.1s\n",
      "[CV 6/10] END .......smote__sampling_strategy=1;, score=0.905 total time=   3.1s\n",
      "[CV 7/10] END .......smote__sampling_strategy=1;, score=0.905 total time=   3.0s\n",
      "[CV 8/10] END .......smote__sampling_strategy=1;, score=0.898 total time=   3.0s\n",
      "[CV 9/10] END .......smote__sampling_strategy=1;, score=0.867 total time=   3.1s\n",
      "[CV 10/10] END ......smote__sampling_strategy=1;, score=0.829 total time=   3.0s\n",
      "CPU times: total: 6min 16s\n",
      "Wall time: 1min 43s\n"
     ]
    }
   ],
   "source": [
    "%%time\n",
    "\n",
    "param_grid = {\n",
    "    \"smote__sampling_strategy\" : [0.25, 0.5, 0.75, 1]\n",
    "}\n",
    "\n",
    "grid_search = GridSearchCV(pipeline, param_grid=param_grid, cv=10, scoring=\"roc_auc\", verbose=4)\n",
    "grid_search.fit(X_train, y_train);"
   ]
  },
  {
   "cell_type": "code",
   "execution_count": 27,
   "metadata": {
    "ExecuteTime": {
     "end_time": "2024-05-03T16:32:43.837629Z",
     "start_time": "2024-05-03T16:32:43.832553Z"
    }
   },
   "outputs": [
    {
     "name": "stdout",
     "output_type": "stream",
     "text": [
      "Optimal sampling strategy: 0.25\n"
     ]
    }
   ],
   "source": [
    "opt_sampling_strategy = grid_search.best_params_[\"smote__sampling_strategy\"]\n",
    "print(f\"Optimal sampling strategy: {opt_sampling_strategy}\")"
   ]
  },
  {
   "cell_type": "code",
   "execution_count": 28,
   "metadata": {
    "ExecuteTime": {
     "end_time": "2024-05-03T16:32:45.351835Z",
     "start_time": "2024-05-03T16:32:45.122943Z"
    }
   },
   "outputs": [
    {
     "name": "stdout",
     "output_type": "stream",
     "text": [
      "Train metrics\n",
      "AUROC: 100.00%\n",
      "F1-score: 100.00%\n",
      "\n",
      "Test metrics\n",
      "AUROC: 89.62%\n",
      "F1-score: 38.15%\n"
     ]
    }
   ],
   "source": [
    "print(\"Train metrics\")\n",
    "assess_rf_performance(grid_search, X_train, y_train)\n",
    "print()\n",
    "print(\"Test metrics\")\n",
    "assess_rf_performance(grid_search, X_test, y_test)"
   ]
  },
  {
   "cell_type": "code",
   "execution_count": 29,
   "metadata": {
    "ExecuteTime": {
     "end_time": "2024-05-03T16:32:53.683374Z",
     "start_time": "2024-05-03T16:32:50.562260Z"
    }
   },
   "outputs": [],
   "source": [
    "opt_pipeline = Pipeline([\n",
    "    (\"smote\", SMOTE(random_state=0, sampling_strategy=opt_sampling_strategy, k_neighbors=opt_k_neighbors)),\n",
    "    (\"cls\", RandomForestClassifier(class_weight=\"balanced\", random_state=0, n_jobs=-1)),\n",
    "])\n",
    "\n",
    "opt_pipeline.fit(X_train, y_train);"
   ]
  },
  {
   "cell_type": "code",
   "execution_count": 30,
   "metadata": {
    "ExecuteTime": {
     "end_time": "2024-05-03T16:32:56.390597Z",
     "start_time": "2024-05-03T16:32:56.201573Z"
    }
   },
   "outputs": [
    {
     "name": "stdout",
     "output_type": "stream",
     "text": [
      "Train metrics\n",
      "AUROC: 100.00%\n",
      "F1-score: 100.00%\n",
      "\n",
      "Test metrics\n",
      "AUROC: 90.36%\n",
      "F1-score: 38.86%\n"
     ]
    }
   ],
   "source": [
    "print(\"Train metrics\")\n",
    "assess_rf_performance(opt_pipeline, X_train, y_train)\n",
    "print()\n",
    "print(\"Test metrics\")\n",
    "assess_rf_performance(opt_pipeline, X_test, y_test)"
   ]
  },
  {
   "cell_type": "markdown",
   "metadata": {},
   "source": [
    "Wynik poprawił się jedynie w przypadku optymalizacji pierwszego parametru, a połączenie wyników nie poprawiło wyniku. Model dalej się overfitował w każdym przypadku. Warto było jedynie tunować pierwszy parametr."
   ]
  },
  {
   "cell_type": "markdown",
   "metadata": {},
   "source": [
    "Z logów wynika, że przeciętny trening zajmuje około 3 sekundy. Mamy 5 wartości dla pierwszego parametru i 4 dla drugiego, Zakładając 10-krotną walidację skrośną, przy podejściu step-wise do wytrenowania jest 10*(5 + 4) = 90 modeli, a w pełnym grid searchu było by to 10 * 5 * 4 = 200 modeli. W pierwszym przypadku tuning zajął około 4,5 minuty, w drugim było by to około 10 minut."
   ]
  },
  {
   "cell_type": "markdown",
   "metadata": {},
   "source": [
    "Ostatnią rzeczą, którą możemy tu zrobić, jest połączenie naszych technik. Imbalanced-learn implementuje wygodne połączenie oversamplingu z undersamplingu w module `combine`, np. klasą `SMOTEENN`."
   ]
  },
  {
   "cell_type": "code",
   "execution_count": 31,
   "metadata": {
    "ExecuteTime": {
     "end_time": "2024-05-03T16:34:30.533893Z",
     "start_time": "2024-05-03T16:34:26.889220Z"
    }
   },
   "outputs": [
    {
     "name": "stdout",
     "output_type": "stream",
     "text": [
      "AUROC: 99.87%\n",
      "F1-score: 74.47%\n",
      "AUROC: 87.51%\n",
      "F1-score: 40.38%\n"
     ]
    }
   ],
   "source": [
    "from imblearn.combine import SMOTEENN\n",
    "\n",
    "\n",
    "smote_enn_pipeline = Pipeline(\n",
    "    [\n",
    "        (\"smoteenn\", SMOTEENN(random_state=0)),\n",
    "        (\n",
    "            \"rf\",\n",
    "            RandomForestClassifier(class_weight=\"balanced\", random_state=0, n_jobs=-1),\n",
    "        ),\n",
    "    ]\n",
    ")\n",
    "smote_enn_pipeline.fit(X_train, y_train)\n",
    "\n",
    "assess_rf_performance(smote_enn_pipeline, X_train, y_train)\n",
    "assess_rf_performance(smote_enn_pipeline, X_test, y_test)"
   ]
  },
  {
   "cell_type": "markdown",
   "metadata": {},
   "source": [
    "Przy domyślnych hiperparametrach, połączenie SMOTE i ENN daje gorsze wyniki niż sam SMOTE. Może jednak to kwestia tuningu?"
   ]
  },
  {
   "cell_type": "markdown",
   "metadata": {},
   "source": [
    "**Zadanie 5 (0.5 punktu)**\n",
    "\n",
    "Wytrenuj SMOTEENN, wykorzystując optymalne hiperparametry znalezione podczas tuningu ENN oraz SMOTE. Sprawdź wyniki na zbiorze testowym.\n",
    "\n",
    "Porównaj wyniki ENN, SMOTE oraz ich połączenia. Które rozwiązanie wybrałbyś w praktyce i dlaczego?"
   ]
  },
  {
   "cell_type": "code",
   "execution_count": 32,
   "metadata": {
    "ExecuteTime": {
     "end_time": "2024-05-03T16:34:36.585028Z",
     "start_time": "2024-05-03T16:34:33.486352Z"
    }
   },
   "outputs": [
    {
     "name": "stdout",
     "output_type": "stream",
     "text": [
      "AUROC: 99.92%\n",
      "F1-score: 93.81%\n",
      "AUROC: 88.93%\n",
      "F1-score: 37.50%\n"
     ]
    }
   ],
   "source": [
    "smote_enn_pipeline = Pipeline([\n",
    "        (\"smoteenn\", SMOTEENN(\n",
    "            random_state=0,\n",
    "            sampling_strategy=opt_sampling_strategy,\n",
    "            enn=EditedNearestNeighbours(kind_sel='mode', n_neighbors=5))),\n",
    "\n",
    "        (\"rf\", RandomForestClassifier(class_weight=\"balanced\", random_state=0, n_jobs=-1)),\n",
    "])\n",
    "smote_enn_pipeline.fit(X_train, y_train)\n",
    "\n",
    "assess_rf_performance(smote_enn_pipeline, X_train, y_train)\n",
    "assess_rf_performance(smote_enn_pipeline, X_test, y_test)"
   ]
  },
  {
   "cell_type": "markdown",
   "metadata": {},
   "source": [
    "Oba modele dały dość podobne wyniki i mocno się overfitowały. Ostatecznie pewnie bym wybrał SMOTE bo okazał się troche lepszy."
   ]
  },
  {
   "cell_type": "markdown",
   "metadata": {},
   "source": [
    "## Klasyfikacja ekstremalnie niezbalansowana i anomaly detection"
   ]
  },
  {
   "cell_type": "markdown",
   "metadata": {},
   "source": [
    "Jako nasz drugi zbiór wykorzystamy [Credit Card Fraud Detection dataset](https://www.kaggle.com/datasets/mlg-ulb/creditcardfraud). Został on stworzony przez naukowców z Université Libre de Bruxelles we współpracy z firmą Wordline, obsługującą transakcje finansowe. Jest to największa europejska firma tego typu, i jedna z największych na świecie. Na potrzeby tego datasetu udostępniła transakcje z Europy z września 2013 roku.\n",
    "\n",
    "Jest to ponad 284 tysiące transakcji, z czego zaledwie 492 to transakcje będące wynikiem przestępstwa (fraud transaction). Klasa pozytywna to zatem około 0.172% danych, co wymaga specjalnych algorytmów i metryk. Cechy w zbiorze zostały zanonimizowane za pomocą transformacji PCA, dzięki czemu można było publicznie udostępnić taki zbiór. Jedynie publicznie znane cechy to \"Time\" i \"Amount\". Wszystkie cechy są numeryczne i nie ma wartości brakujących, a dane są najwyższej możliwej jakości (generowane automatycznie, a fraud jest bardzo dokładnie sprawdzany jako przestępstwa), więc jest doskonały do uczenia maszynowego.\n",
    "\n",
    "Warto pamiętać, że chociaż fraud to tak mało danych, to każdy jeden przypadek to bardzo ciężkie przestępstwo, często mogące zrujnować komuś życie, więc wykrycie możliwie jak największej liczby z nich jest obowiązkiem prawnym firm finansowych. Z tego względu algorytmy stanowią tutaj część systemu, flagujące transakcje jako podejrzane według prawdopodobieństwa. Później następuje weryfikacja ręczna w takich wypadkach.\n",
    "\n",
    "Ze względu na powyższe cechy zbioru, autorzy proponują metrykę **Area Under Precision-Recall Curve (AUPRC)**. Trzeba pamiętać, żeby uważać przy łączeniu jej z under- i oversamplingiem, bo zmieniają one proporcję klasy pozytywnej."
   ]
  },
  {
   "cell_type": "markdown",
   "metadata": {},
   "source": [
    "Ze względu na bardzo duży rozmiar zbioru najpierw go zmniejszymy, żeby wszystko liczyło się w rozsądnym czasie. Naruszymy przy tym balans klas i zwiększymy stosunek outlierów, ale ze względów czysto praktycznych jesteśmy do tego zmuszeni. Dokonamy takiego losowego undersamplingu, żeby zostało 50 tysięcy próbek z klasy negatywnej i wszystkie z klasy pozytywnej.\n",
    "\n",
    "W praktyce też tak się czasem robi - na nic nam potężna ilość danych, jeżeli nie jesteśmy w stanie nic na tym policzyć. Ostatecznie fraud transaction stanowią dalej niecały 1% naszych danych, więc zbiór dalej jest ekstremalnie niezbalansowany i przybliżenie prawdziwych danych jest dobre.\n",
    "\n",
    "Ma to też tę zaletę, że zwalcza zjawisko nazywane **swamping**. Występuje ono w anomaly detection, gdy mamy totalnie za dużo klasy dominującej i nachodzi ona na chmurę punktów z klasy mniejszościowej (anomalii), \"zalewając\" ją. Powoduje to często FP, kiedy te przykłady z klasy dominującej zostają uznane za pozytywne.\n",
    "\n",
    "Standaryzujemy też dane, bo skorzystamy z metod opartych o najbliższych sąsiadów."
   ]
  },
  {
   "cell_type": "code",
   "execution_count": 33,
   "metadata": {
    "ExecuteTime": {
     "end_time": "2024-05-03T16:34:50.866200Z",
     "start_time": "2024-05-03T16:34:50.160137Z"
    }
   },
   "outputs": [],
   "source": [
    "from imblearn.under_sampling import RandomUnderSampler\n",
    "\n",
    "\n",
    "df = pd.read_parquet(\"credit_card_fraud_data.parquet\")\n",
    "# df = df.drop(columns=\"Time\")\n",
    "y = df.pop(\"Class\")\n",
    "\n",
    "sampling_strategy = {0: 50000, 1: (y == 1).sum()}\n",
    "\n",
    "random_under_sampler = RandomUnderSampler(sampling_strategy=sampling_strategy)\n",
    "df, y = random_under_sampler.fit_resample(df, y)\n",
    "\n",
    "X_train, X_test, y_train, y_test = train_test_split(\n",
    "    df, y, test_size=0.25, random_state=0, stratify=y\n",
    ")\n",
    "\n",
    "scaler = StandardScaler()\n",
    "scaler.fit(X_train)\n",
    "\n",
    "X_train = scaler.transform(X_train)\n",
    "X_test = scaler.transform(X_test)"
   ]
  },
  {
   "cell_type": "code",
   "execution_count": 34,
   "metadata": {
    "ExecuteTime": {
     "end_time": "2024-05-03T16:34:51.789215Z",
     "start_time": "2024-05-03T16:34:51.759219Z"
    }
   },
   "outputs": [
    {
     "name": "stdout",
     "output_type": "stream",
     "text": [
      "Fraud class after resampling: 0.97% of the dataset\n"
     ]
    }
   ],
   "source": [
    "y_pos_count = (y == 1).sum()\n",
    "y_pos_perc = y_pos_count / len(y)\n",
    "\n",
    "print(f\"Fraud class after resampling: {100 * y_pos_perc:.2f}% of the dataset\")"
   ]
  },
  {
   "cell_type": "markdown",
   "metadata": {},
   "source": [
    "Użyjemy po kolei dwóch algorytmów nienadzorowanego outlier detection:\n",
    "- kNN\n",
    "- Isolation Forest\n",
    "\n",
    "Jako wartość parametru `contamination`, czyli oczekiwanej proporcji outlierów, warto zacząć po prostu od ułamka anomalii w zbiorze treningowym, jeżeli jest ona znana."
   ]
  },
  {
   "cell_type": "code",
   "execution_count": 35,
   "metadata": {
    "ExecuteTime": {
     "end_time": "2024-05-03T16:34:53.757916Z",
     "start_time": "2024-05-03T16:34:53.746894Z"
    }
   },
   "outputs": [],
   "source": [
    "from sklearn.metrics import average_precision_score\n",
    "\n",
    "\n",
    "def assess_anomaly_detection_model(estimator, X_test, y_test) -> None:\n",
    "    y_pred_score = estimator.predict_proba(X_test)\n",
    "\n",
    "    # in PyOD, .predict_proba() sometimes returns probability distribution,\n",
    "    # and sometimes it returns only probability of being anomaly\n",
    "    if len(y_pred_score.shape) > 1:\n",
    "        y_pred_score = y_pred_score[:, 1]\n",
    "\n",
    "    auprc = average_precision_score(y_test, y_pred_score)\n",
    "    print(f\"AUPRC: {100 * auprc:.2f}%\")\n"
   ]
  },
  {
   "cell_type": "code",
   "execution_count": 36,
   "metadata": {
    "ExecuteTime": {
     "end_time": "2024-05-03T16:35:44.060465Z",
     "start_time": "2024-05-03T16:34:54.748668Z"
    }
   },
   "outputs": [
    {
     "name": "stdout",
     "output_type": "stream",
     "text": [
      "kNN metrics\n",
      "AUPRC: 14.87%\n",
      "\n",
      "Isolation Forest metrics\n",
      "AUPRC: 51.19%\n",
      "\n"
     ]
    }
   ],
   "source": [
    "from pyod.models.iforest import IForest\n",
    "from pyod.models.knn import KNN\n",
    "\n",
    "\n",
    "contamination = (y == 1).sum() / len(y)\n",
    "\n",
    "knn = KNN(contamination=contamination, n_jobs=-1)\n",
    "knn.fit(X_train)\n",
    "print(\"kNN metrics\")\n",
    "assess_anomaly_detection_model(knn, X_test, y_test)\n",
    "print()\n",
    "\n",
    "iforest = IForest(contamination=contamination, behaviour=\"new\", random_state=0, n_jobs=-1)\n",
    "iforest.fit(X_train)\n",
    "print(\"Isolation Forest metrics\")\n",
    "assess_anomaly_detection_model(iforest, X_test, y_test)\n",
    "print()"
   ]
  },
  {
   "cell_type": "markdown",
   "metadata": {},
   "source": [
    "kNN wykazuje na pewno potencjał (pamiętajmy, że AUPRC ma typowo bardzo niskie wartości!), ale nasz zbiór jest dość duży, więc czuć wolniejsze tempo tej metody, a niestety PyOD nie współgra dobrze z PyNNDescent, żeby go przyspieszyć z użyciem ANN. Dlatego skupimy się teraz na Isolation Forest.\n",
    "\n",
    "Jego najważniejsze hiperparametry to:\n",
    "- `n_estimators` - liczba drzew, typowo ok. 500 jest już osiągana asymptota wyniku\n",
    "- `max_samples` - wielkość próbki per drzewo, domyślnie 256, ale nieco większa może pomóc, jeżeli mamy naprawdę masywny zbiór\n",
    "\n",
    "Typowo `contamination` niewiele zmienia w przypadku tego algorytmu, kiedy używamy metryki opartej o prawdopodobieństwa, takiej jak AUPRC."
   ]
  },
  {
   "cell_type": "markdown",
   "metadata": {},
   "source": [
    "**Zadanie 6 (1.5 punktu)**\n",
    "\n",
    "1. Dokonaj tuningu hiperarametrów po kolei (step-wise) za pomocą walidacji skrośnej:\n",
    "   - najpierw `n_estimators`, wartości `[100, 200, 300, 400, 500]`\n",
    "   - później `max_samples`,  wartości `[100, 200, 256, 300, 400, 500]`\n",
    "   - wykorzystaj wartość `contamination` obliczoną wcześniej\n",
    "   - użyj `random_state=0` i `n_jobs=-1` dla obiektu `IForest`\n",
    "   - użyj 5-krotnej walidacji skrośnej, optymalizując `\"average_precision\"` (AUPRC)\n",
    "2. Wypisz znalezione optymalne wartości parametrów.\n",
    "3. Wytrenuj Isolation Forest z wartościami obu parametrów. Sprawdź wynik na zbiorze testowym.\n",
    "4. Skomentuj, czy udało się poprawić wynik. Czy twoim zdaniem było warto dokonać tuningu obu hiperparamametrów, czy wystarczyłby jeden z nich?\n",
    "\n",
    "**Uwaga:** przez drobnego buga w połączeniu `pyod` i najnowszych wersji Scikit-learn trzeba użyć explicite funkcji obliczającej AUPRC, przygotowano ją poniżej."
   ]
  },
  {
   "cell_type": "code",
   "execution_count": null,
   "metadata": {},
   "outputs": [],
   "source": [
    "from sklearn.metrics import make_scorer\n",
    "\n",
    "\n",
    "def auprc(estimator, X, y):\n",
    "    return average_precision_score(y, estimator.predict_proba(X))\n",
    "\n",
    "\n",
    "auprc = make_scorer(average_precision_score)"
   ]
  },
  {
   "cell_type": "code",
   "execution_count": 38,
   "metadata": {
    "ExecuteTime": {
     "end_time": "2024-05-03T16:37:09.815767Z",
     "start_time": "2024-05-03T16:36:26.946897Z"
    },
    "scrolled": true
   },
   "outputs": [
    {
     "name": "stdout",
     "output_type": "stream",
     "text": [
      "Fitting 5 folds for each of 5 candidates, totalling 25 fits\n",
      "[CV 1/5] END ..................n_estimators=100;, score=0.221 total time=   0.5s\n",
      "[CV 2/5] END ..................n_estimators=100;, score=0.246 total time=   0.7s\n",
      "[CV 3/5] END ..................n_estimators=100;, score=0.213 total time=   0.5s\n",
      "[CV 4/5] END ..................n_estimators=100;, score=0.236 total time=   0.5s\n",
      "[CV 5/5] END ..................n_estimators=100;, score=0.165 total time=   0.5s\n",
      "[CV 1/5] END ..................n_estimators=200;, score=0.238 total time=   1.3s\n",
      "[CV 2/5] END ..................n_estimators=200;, score=0.247 total time=   1.0s\n",
      "[CV 3/5] END ..................n_estimators=200;, score=0.202 total time=   1.0s\n",
      "[CV 4/5] END ..................n_estimators=200;, score=0.266 total time=   1.0s\n",
      "[CV 5/5] END ..................n_estimators=200;, score=0.188 total time=   1.0s\n",
      "[CV 1/5] END ..................n_estimators=300;, score=0.266 total time=   1.5s\n",
      "[CV 2/5] END ..................n_estimators=300;, score=0.268 total time=   1.5s\n",
      "[CV 3/5] END ..................n_estimators=300;, score=0.205 total time=   1.5s\n",
      "[CV 4/5] END ..................n_estimators=300;, score=0.255 total time=   1.5s\n",
      "[CV 5/5] END ..................n_estimators=300;, score=0.175 total time=   1.5s\n",
      "[CV 1/5] END ..................n_estimators=400;, score=0.293 total time=   2.0s\n",
      "[CV 2/5] END ..................n_estimators=400;, score=0.264 total time=   2.0s\n",
      "[CV 3/5] END ..................n_estimators=400;, score=0.239 total time=   2.0s\n",
      "[CV 4/5] END ..................n_estimators=400;, score=0.274 total time=   2.0s\n",
      "[CV 5/5] END ..................n_estimators=400;, score=0.170 total time=   2.0s\n",
      "[CV 1/5] END ..................n_estimators=500;, score=0.293 total time=   2.5s\n",
      "[CV 2/5] END ..................n_estimators=500;, score=0.264 total time=   2.5s\n",
      "[CV 3/5] END ..................n_estimators=500;, score=0.233 total time=   2.5s\n",
      "[CV 4/5] END ..................n_estimators=500;, score=0.243 total time=   2.6s\n",
      "[CV 5/5] END ..................n_estimators=500;, score=0.177 total time=   2.5s\n"
     ]
    }
   ],
   "source": [
    "import warnings\n",
    "\n",
    "warnings.filterwarnings(\"ignore\")\n",
    "\n",
    "param_grid = {\n",
    "    \"n_estimators\" : [100, 200, 300, 400, 500],\n",
    "}\n",
    "\n",
    "iforest = IForest(contamination=contamination, behaviour=\"new\", random_state=0, n_jobs=-1)\n",
    "grid_search = GridSearchCV(iforest, cv=5, param_grid=param_grid, scoring=auprc, verbose=4)\n",
    "grid_search.fit(X_train, y_train);"
   ]
  },
  {
   "cell_type": "code",
   "execution_count": 39,
   "metadata": {
    "ExecuteTime": {
     "end_time": "2024-05-03T16:37:14.695085Z",
     "start_time": "2024-05-03T16:37:14.685088Z"
    }
   },
   "outputs": [
    {
     "name": "stdout",
     "output_type": "stream",
     "text": [
      "Optimal number of estimators: 400\n"
     ]
    }
   ],
   "source": [
    "opt_n_estimators = grid_search.best_params_[\"n_estimators\"]\n",
    "print(f\"Optimal number of estimators: {opt_n_estimators}\")"
   ]
  },
  {
   "cell_type": "code",
   "execution_count": 40,
   "metadata": {
    "ExecuteTime": {
     "end_time": "2024-05-03T16:37:17.072432Z",
     "start_time": "2024-05-03T16:37:16.790905Z"
    }
   },
   "outputs": [
    {
     "name": "stdout",
     "output_type": "stream",
     "text": [
      "AUPRC: 52.43%\n"
     ]
    }
   ],
   "source": [
    "assess_anomaly_detection_model(grid_search, X_test, y_test)"
   ]
  },
  {
   "cell_type": "code",
   "execution_count": 41,
   "metadata": {
    "ExecuteTime": {
     "end_time": "2024-05-03T16:37:37.152939Z",
     "start_time": "2024-05-03T16:37:18.845325Z"
    }
   },
   "outputs": [
    {
     "name": "stdout",
     "output_type": "stream",
     "text": [
      "Fitting 5 folds for each of 6 candidates, totalling 30 fits\n",
      "[CV 1/5] END ...................max_samples=100;, score=0.293 total time=   0.5s\n",
      "[CV 2/5] END ...................max_samples=100;, score=0.237 total time=   0.6s\n",
      "[CV 3/5] END ...................max_samples=100;, score=0.209 total time=   0.4s\n",
      "[CV 4/5] END ...................max_samples=100;, score=0.226 total time=   0.5s\n",
      "[CV 5/5] END ...................max_samples=100;, score=0.122 total time=   0.4s\n",
      "[CV 1/5] END ...................max_samples=200;, score=0.285 total time=   0.5s\n",
      "[CV 2/5] END ...................max_samples=200;, score=0.299 total time=   0.5s\n",
      "[CV 3/5] END ...................max_samples=200;, score=0.174 total time=   0.5s\n",
      "[CV 4/5] END ...................max_samples=200;, score=0.208 total time=   0.5s\n",
      "[CV 5/5] END ...................max_samples=200;, score=0.247 total time=   0.5s\n",
      "[CV 1/5] END ...................max_samples=256;, score=0.221 total time=   0.5s\n",
      "[CV 2/5] END ...................max_samples=256;, score=0.246 total time=   0.5s\n",
      "[CV 3/5] END ...................max_samples=256;, score=0.213 total time=   0.5s\n",
      "[CV 4/5] END ...................max_samples=256;, score=0.236 total time=   0.5s\n",
      "[CV 5/5] END ...................max_samples=256;, score=0.165 total time=   0.5s\n",
      "[CV 1/5] END ...................max_samples=300;, score=0.285 total time=   0.5s\n",
      "[CV 2/5] END ...................max_samples=300;, score=0.273 total time=   0.5s\n",
      "[CV 3/5] END ...................max_samples=300;, score=0.242 total time=   0.5s\n",
      "[CV 4/5] END ...................max_samples=300;, score=0.173 total time=   0.5s\n",
      "[CV 5/5] END ...................max_samples=300;, score=0.165 total time=   0.5s\n",
      "[CV 1/5] END ...................max_samples=400;, score=0.287 total time=   0.5s\n",
      "[CV 2/5] END ...................max_samples=400;, score=0.270 total time=   0.5s\n",
      "[CV 3/5] END ...................max_samples=400;, score=0.248 total time=   0.5s\n",
      "[CV 4/5] END ...................max_samples=400;, score=0.219 total time=   0.5s\n",
      "[CV 5/5] END ...................max_samples=400;, score=0.251 total time=   0.5s\n",
      "[CV 1/5] END ...................max_samples=500;, score=0.254 total time=   0.5s\n",
      "[CV 2/5] END ...................max_samples=500;, score=0.253 total time=   0.5s\n",
      "[CV 3/5] END ...................max_samples=500;, score=0.264 total time=   0.5s\n",
      "[CV 4/5] END ...................max_samples=500;, score=0.258 total time=   0.5s\n",
      "[CV 5/5] END ...................max_samples=500;, score=0.190 total time=   0.5s\n"
     ]
    }
   ],
   "source": [
    "param_grid = {\n",
    "    \"max_samples\" : [100, 200, 256, 300, 400, 500],\n",
    "}\n",
    "grid_search = GridSearchCV(iforest, cv=5, param_grid=param_grid, scoring=auprc, verbose=4)\n",
    "grid_search.fit(X_train, y_train);"
   ]
  },
  {
   "cell_type": "code",
   "execution_count": 42,
   "metadata": {
    "ExecuteTime": {
     "end_time": "2024-05-03T16:37:39.021052Z",
     "start_time": "2024-05-03T16:37:39.015908Z"
    }
   },
   "outputs": [
    {
     "name": "stdout",
     "output_type": "stream",
     "text": [
      "Optimal number of max_samples: 400\n"
     ]
    }
   ],
   "source": [
    "opt_max_samples = grid_search.best_params_[\"max_samples\"]\n",
    "print(f\"Optimal number of max_samples: {opt_max_samples}\")"
   ]
  },
  {
   "cell_type": "code",
   "execution_count": 43,
   "metadata": {
    "ExecuteTime": {
     "end_time": "2024-05-03T16:37:40.101604Z",
     "start_time": "2024-05-03T16:37:40.024669Z"
    }
   },
   "outputs": [
    {
     "name": "stdout",
     "output_type": "stream",
     "text": [
      "AUPRC: 51.68%\n"
     ]
    }
   ],
   "source": [
    "assess_anomaly_detection_model(grid_search, X_test, y_test)"
   ]
  },
  {
   "cell_type": "code",
   "execution_count": 44,
   "metadata": {
    "ExecuteTime": {
     "end_time": "2024-05-03T16:37:43.858184Z",
     "start_time": "2024-05-03T16:37:41.065079Z"
    }
   },
   "outputs": [],
   "source": [
    "iforest = IForest(max_samples=opt_max_samples, n_estimators=opt_n_estimators, contamination=contamination, behaviour=\"new\", random_state=0, n_jobs=-1)\n",
    "iforest.fit(X_train);"
   ]
  },
  {
   "cell_type": "code",
   "execution_count": 45,
   "metadata": {
    "ExecuteTime": {
     "end_time": "2024-05-03T16:37:45.790529Z",
     "start_time": "2024-05-03T16:37:45.534033Z"
    }
   },
   "outputs": [
    {
     "name": "stdout",
     "output_type": "stream",
     "text": [
      "AUPRC: 53.56%\n"
     ]
    }
   ],
   "source": [
    "assess_anomaly_detection_model(iforest, X_test, y_test)"
   ]
  },
  {
   "cell_type": "markdown",
   "metadata": {},
   "source": [
    "Wynik lekko poprawił się dopiero po uwzględnieniu obu parametrów. "
   ]
  },
  {
   "cell_type": "markdown",
   "metadata": {},
   "source": [
    "Zaprezentowane podejścia należały do **uczenia nienadzorowanego (unsupervised learning)**, gdyż te algorytmy nie potrzebowały klas dla przykładów ze zbioru treningowego. W szczególności Isolation Forest potrafi działać bardzo dobrze nawet wtedy, kiedy zbiór uczący nie zawiera żadnych anomalii. Wykorzystanie takich algorytmów jest zatem proste i tanie, a w szczególności można dla nich łatwo stworzyć potężne zbiory danych.\n",
    "\n",
    "Jeżeli mamy luksus posiadania pełnej informacji o klasach, możemy użyć algorytmów uczenia nadzorowanego (supervised learning). W szczególności można także połączyć te podejścia, co realizuje **uczenie pół-nadzorowane (semi-supervised learning)**, którego przedstawicielem jest XGBoost Outlier Detection (XGBOD). Polega on na obliczeniu anomaly scores dla próbek za pomocą algorytmów nienadzorowanych (np. kNN czy Isolation Forest) i doklejeniu ich jako dodatkowych cech do naszego zbioru treningowego. Można stosować jeden algorytm wielokrotnie, np. kNN dla wielu wartości k, bo wtedy XGBoost ma wiele nowych cech (dla różnych gęstości outlierów) i może je elastycznie łączyć.\n",
    "\n",
    "Tak naprawdę podejście to jest bardzo ogólne, i można by zastosować dowolne połączenia ekstrekcji dodatkowych cech anomalii i klasyfikatorów. XGBOD to po prostu pierwszy zaproponowany przykład takiego algorytmu i działa naprawdę dobrze.\n",
    "\n",
    "PyOD implementuje to w klasie `XGBOD`, która przyjmuje argument `estimator_list`. Jest to lista obiektów klas do nienadzorowanego outlier detection, np. `KNN` czy `IForest` (samych klas, przed treningiem przez `.fit()`). Sam trening i predykcja działa tak jak w przypadku poprzednich algorytmów."
   ]
  },
  {
   "cell_type": "markdown",
   "metadata": {},
   "source": [
    "**Zadanie 7 (1.5 punktu)**\n",
    "\n",
    "1. Stwórz listę `estimator_list`, składającą się z:\n",
    "   - algorytmów `KNN` z `n_neighbors`: `[1, 3, 5, 10, 20, 30]`\n",
    "   - algorytmów `IForest` z `n_estimators`: `[50, 100, 200, 300]`\n",
    "   - pamiętaj o przekazaniu `n_jobs=-1` oraz `random_state=0` (w razie potrzeby) podczas tworzenia obiektów tych klas\n",
    "2. Wytrenuj algorytm `XGBOD`, pamiętaj o przekazaniu stworzonego `estimator_list` raz o ustawieniu `n_jobs=-1` i `random_state=0`.\n",
    "3. Dokonaj ewaluacji wyników na zbiorze testowym.\n",
    "4. Skomentuj:\n",
    "   - jak mają się do siebie wyniki podejścia nienadzorowanego i w pełni nadzorowanego?\n",
    "   - co uważasz o podejściu pół-nadzorowanym, w którym skorzystaliśmy z dodatkowych cech?\n",
    "   - czy twoim zdaniem finalna wartość metryki jest zadowalająca?\n",
    "   - czy trening subiektywnie trwał zauważalnie dłużej od tego dla algorytmów nienadzorowanych?\n",
    "   - czy twoim zdaniem warto ponieść wysiłek i koszty, pozwalające na użycie takiego algorytmu pół-nadzorowanego?\n",
    "\n",
    "**Uwaga:** może się to liczyć dość długo, rzędu kilku minut. Jeżeli będzie definitywnie zbyt długie, zmniejsz liczbę algorytmów KNN."
   ]
  },
  {
   "cell_type": "code",
   "execution_count": 51,
   "metadata": {
    "ExecuteTime": {
     "end_time": "2024-05-03T16:48:59.678486Z",
     "start_time": "2024-05-03T16:48:59.673418Z"
    }
   },
   "outputs": [],
   "source": [
    "knns = [KNN(contamination=contamination, n_jobs=-1, n_neighbors=k) for k in [1, 3, 5, 10, 20, 30]]\n",
    "iforests = [IForest(n_estimators=k, contamination=contamination, behaviour=\"new\", random_state=0, n_jobs=-1) for k in [50, 100, 200, 300]]\n",
    "\n",
    "estimator_list = knns + iforests"
   ]
  },
  {
   "cell_type": "code",
   "execution_count": 52,
   "metadata": {
    "ExecuteTime": {
     "end_time": "2024-05-03T16:49:29.790916Z",
     "start_time": "2024-05-03T16:49:09.399051Z"
    },
    "collapsed": false,
    "jupyter": {
     "outputs_hidden": false
    }
   },
   "outputs": [],
   "source": [
    "from pyod.models.xgbod import XGBOD\n",
    "\n",
    "xgbod = XGBOD(estimator_list=estimator_list, random_state=0)\n",
    "xgbod.fit(X_train, y_train);"
   ]
  },
  {
   "cell_type": "code",
   "execution_count": 53,
   "metadata": {
    "ExecuteTime": {
     "end_time": "2024-05-03T16:54:29.954838Z",
     "start_time": "2024-05-03T16:49:31.706921Z"
    },
    "collapsed": false,
    "jupyter": {
     "outputs_hidden": false
    }
   },
   "outputs": [
    {
     "name": "stdout",
     "output_type": "stream",
     "text": [
      "AUPRC: 88.09%\n"
     ]
    }
   ],
   "source": [
    "assess_anomaly_detection_model(xgbod, X_test, y_test)"
   ]
  },
  {
   "cell_type": "markdown",
   "metadata": {},
   "source": [
    "Jak widać wyniki w podejściu pół nadzorowanym są dużo lepsze, a wartość metryki jest bardzo dobra. Trening nie był aż tak długi, za to bardzo długa była predykcja, wynika to zapewne z użycia 6 knn-ów. Po wynikach jednak na pewno można stwierdzić, że się opłacało. Według mnie algorytmy pół nadzorowane na pewno są ciekawym pomysłem, dają bardzo dobre wyniki i można je różne sposoby ulepszać, istnieje wiele sposobów obliczania nowych cechy i także na wiele sposobów można dokonywać klasyfikacji z ich użyciem."
   ]
  },
  {
   "cell_type": "markdown",
   "metadata": {},
   "source": [
    "## Zadanie dodatkowe (3 punkty)\n",
    "\n",
    "W przypadku niektórych zbiorów danych anomalie mogą być zjawiskiem dość pozytywnym, tylko po prostu ekstremalnie rzadkim. Jest tak typowo w farmacji, gdzie molekuły będące potencjalnymi lekami są bardzo niewielkim ułamkiem zbiorów nawet wśród wstępnie typowanych, obiecujących substancji. Pierwszy etap projektowania nowych leków, tzw. high-throughput screening (HTS), polega na identyfikacji tego bardzo niewielkiego podzbioru spośród wielkich baz molekuł, w celu dalszego badania.\n",
    "\n",
    "Zbiór AID746, [dostępny na platformie Kaggle](https://www.kaggle.com/datasets/uciml/bioassay-datasets), dotyczy identyfikacji kinaz białkowych aktywowanych mitogenami ([Wikipedia](https://pl.wikipedia.org/wiki/Kinazy_aktywowane_mitogenami)). Są to enzymy regulujące odpowiedzi na sygnały docierające do komórki, regulujące wiele ciekawych funkcji. Mają potencjalne zastosowania m.in. w rozwoju metod chemoterapii, badaniu insulinoodporności czy rozwoju leków przeciwzapalnych ([Wikipedia](https://en.wikipedia.org/wiki/Mitogen-activated_protein_kinase#As_therapeutic_targets)).\n",
    "\n",
    "W tym zbiorze danych klasa substancji aktywnych stanowi 0.61% zbioru, spośród ok. 57 tysięcy substancji w zbiorze. Jest on już podzielony na część treningową i testową.\n",
    "\n",
    "Dokonaj klasyfikacji oraz tuningu hiperparametrów dla tego zbioru z pomocą:\n",
    "- kNN\n",
    "- Isolation Forest\n",
    "- XGBOD - tu warto zwrócić uwagę też na parametr `scale_pos_weight`, którego dla uproszczenia nie używaliśmy w ostatnim zadaniu\n",
    "\n",
    "Możesz spróbować także użyć undersamplingu, oversamplingu oraz ich połączenia.\n",
    "\n",
    "Jako metryki użyj AUPRC. Podaj także czułość (recall) finalnego algorytmu - w końcu na etapie początkowego filtrowania substancji chcemy na pewno mieć jak najmniej false negatives.\n",
    "\n",
    "Na podstawie wyników oceń, z jakim typem anomalii mamy tu do czynienia. Czy udało się uzyskać zadowalające w twojej ocenie wyniki?"
   ]
  },
  {
   "cell_type": "code",
   "execution_count": 47,
   "metadata": {
    "ExecuteTime": {
     "end_time": "2024-05-06T20:43:58.157617Z",
     "start_time": "2024-05-06T20:43:58.153463Z"
    }
   },
   "outputs": [],
   "source": [
    "import matplotlib.pyplot as plt\n",
    "import numpy as np\n",
    "import pandas as pd"
   ]
  },
  {
   "cell_type": "code",
   "execution_count": 48,
   "metadata": {
    "ExecuteTime": {
     "end_time": "2024-05-06T20:43:59.846975Z",
     "start_time": "2024-05-06T20:43:58.801547Z"
    }
   },
   "outputs": [],
   "source": [
    "df_train = pd.read_csv(\"AID/AID746red_train.csv\")\n",
    "df_test = pd.read_csv(\"AID/AID746red_test.csv\")"
   ]
  },
  {
   "cell_type": "code",
   "execution_count": null,
   "metadata": {},
   "outputs": [],
   "source": [
    "df_train = df_train.replace({\n",
    "    \"Outcome\" : {\n",
    "        \"Active\" : 1,\n",
    "        \"Inactive\" : 0,\n",
    "    }\n",
    "})\n",
    "\n",
    "df_test = df_test.replace({\n",
    "    \"Outcome\" : {\n",
    "        \"Active\" : 1,\n",
    "        \"Inactive\" : 0,\n",
    "    }\n",
    "});"
   ]
  },
  {
   "cell_type": "code",
   "execution_count": 50,
   "metadata": {
    "ExecuteTime": {
     "end_time": "2024-05-06T20:44:06.478636Z",
     "start_time": "2024-05-06T20:44:06.473019Z"
    }
   },
   "outputs": [],
   "source": [
    "y_train = df_train.pop(\"Outcome\")\n",
    "y_test = df_test.pop(\"Outcome\")"
   ]
  },
  {
   "cell_type": "code",
   "execution_count": 16,
   "metadata": {
    "ExecuteTime": {
     "end_time": "2024-05-06T20:05:08.387242Z",
     "start_time": "2024-05-06T20:05:08.382155Z"
    }
   },
   "outputs": [
    {
     "name": "stdout",
     "output_type": "stream",
     "text": [
      "Positive samples: 293\n"
     ]
    }
   ],
   "source": [
    "print(f\"Positive samples: {y_train.sum()}\")"
   ]
  },
  {
   "cell_type": "markdown",
   "metadata": {},
   "source": [
    "Jako techniki skalowanie używam min_max_scaler, gdyż na ostateczną skalę bardzo wpływają znajdujące się w zbiorze outliery, a w tym przypadku może to pomóc "
   ]
  },
  {
   "cell_type": "code",
   "execution_count": 17,
   "metadata": {
    "ExecuteTime": {
     "end_time": "2024-05-06T20:05:10.946632Z",
     "start_time": "2024-05-06T20:05:10.808575Z"
    }
   },
   "outputs": [],
   "source": [
    "from sklearn.preprocessing import MinMaxScaler\n",
    "\n",
    "scaler = MinMaxScaler()\n",
    "\n",
    "X_train = scaler.fit_transform(df_train)\n",
    "X_test = scaler.transform(df_test)"
   ]
  },
  {
   "cell_type": "code",
   "execution_count": 19,
   "metadata": {
    "ExecuteTime": {
     "end_time": "2024-05-06T20:05:34.051262Z",
     "start_time": "2024-05-06T20:05:24.858908Z"
    }
   },
   "outputs": [
    {
     "name": "stdout",
     "output_type": "stream",
     "text": [
      "Samples before ENN: 47111\n",
      "Samples after ENN: 46889\n"
     ]
    }
   ],
   "source": [
    "from imblearn.under_sampling import EditedNearestNeighbours\n",
    "\n",
    "enn = EditedNearestNeighbours()\n",
    "print(f\"Samples before ENN: {len(X_train)}\")\n",
    "X_train, y_train = enn.fit_resample(X_train, y_train)\n",
    "print(f\"Samples after ENN: {len(X_train)}\")"
   ]
  },
  {
   "cell_type": "code",
   "execution_count": 20,
   "metadata": {
    "ExecuteTime": {
     "end_time": "2024-05-06T20:05:41.866041Z",
     "start_time": "2024-05-06T20:05:41.861040Z"
    }
   },
   "outputs": [
    {
     "name": "stdout",
     "output_type": "stream",
     "text": [
      "293\n"
     ]
    }
   ],
   "source": [
    "print(y_train.sum())"
   ]
  },
  {
   "cell_type": "markdown",
   "metadata": {},
   "source": [
    "Rozmiar zbioru po undersamplingu nie zmienił się zbytnio, lecz usunęliśmy tylko przykłady z klasy negatywnej"
   ]
  },
  {
   "cell_type": "code",
   "execution_count": 21,
   "metadata": {
    "ExecuteTime": {
     "end_time": "2024-05-06T20:06:43.928043Z",
     "start_time": "2024-05-06T20:06:43.922745Z"
    }
   },
   "outputs": [
    {
     "name": "stdout",
     "output_type": "stream",
     "text": [
      "Contaminaion: 0.62%\n"
     ]
    }
   ],
   "source": [
    "_, contamination = y_train.value_counts([False, True])\n",
    "print(f\"Contaminaion: {100*contamination:.2f}%\")"
   ]
  },
  {
   "cell_type": "code",
   "execution_count": 30,
   "metadata": {
    "ExecuteTime": {
     "end_time": "2024-05-06T20:14:24.758691Z",
     "start_time": "2024-05-06T20:14:24.753013Z"
    }
   },
   "outputs": [],
   "source": [
    "from sklearn.metrics import recall_score, average_precision_score, precision_score\n",
    "\n",
    "def train_and_assess_model(\n",
    "        model, \n",
    "        X_train, \n",
    "        y_train, \n",
    "        X_test, \n",
    "        y_test) -> None:\n",
    "    \n",
    "    model.fit(X_train, y_train)\n",
    "    print(\"Finished Training\")\n",
    "    \n",
    "    y_pred_score = model.predict_proba(X_test)\n",
    "    if len(y_pred_score.shape) > 1:\n",
    "        y_pred_score = y_pred_score[:, 1]\n",
    "    y_class = model.predict(X_test)\n",
    "            \n",
    "    auprc = average_precision_score(y_test, y_pred_score)\n",
    "    recall = recall_score(y_test, y_class)\n",
    "    precision = precision_score(y_test, y_class)\n",
    "    print(f\"AUPRC: {100 * auprc:.2f}%\")\n",
    "    print(f\"Recall: {100 * recall:.2f}%\")\n",
    "    print(f\"Precision: {100 * precision:.2f}%\")"
   ]
  },
  {
   "cell_type": "code",
   "execution_count": 31,
   "metadata": {
    "ExecuteTime": {
     "end_time": "2024-05-06T20:14:25.681625Z",
     "start_time": "2024-05-06T20:14:25.674339Z"
    }
   },
   "outputs": [],
   "source": [
    "from pyod.models.iforest import IForest\n",
    "from pyod.models.knn import KNN\n",
    "from sklearn.ensemble import RandomForestClassifier\n",
    "\n",
    "iforest = IForest(n_estimators=500, contamination=contamination, behaviour=\"new\", random_state=0, n_jobs=-1)\n",
    "knn = KNN(n_neighbors=5, contamination=contamination, n_jobs=-1)\n",
    "random_forest = RandomForestClassifier(n_estimators=500, n_jobs=-1, random_state=0)"
   ]
  },
  {
   "cell_type": "markdown",
   "metadata": {},
   "source": [
    "Isolation forest"
   ]
  },
  {
   "cell_type": "code",
   "execution_count": 32,
   "metadata": {},
   "outputs": [
    {
     "name": "stdout",
     "output_type": "stream",
     "text": [
      "Finished Training\n",
      "AUPRC: 0.52%\n",
      "Recall: 0.00%\n",
      "Precision: 0.00%\n"
     ]
    }
   ],
   "source": [
    "train_and_assess_model(iforest, X_train, y_train, X_test, y_test)"
   ]
  },
  {
   "cell_type": "markdown",
   "metadata": {},
   "source": [
    "KNN"
   ]
  },
  {
   "cell_type": "code",
   "execution_count": 33,
   "metadata": {},
   "outputs": [
    {
     "name": "stdout",
     "output_type": "stream",
     "text": [
      "Finished Training\n",
      "AUPRC: 0.56%\n",
      "Recall: 0.00%\n",
      "Precision: 0.00%\n"
     ]
    }
   ],
   "source": [
    "train_and_assess_model(knn, X_train, y_train, X_test, y_test)"
   ]
  },
  {
   "cell_type": "markdown",
   "metadata": {},
   "source": [
    "Random Forest"
   ]
  },
  {
   "cell_type": "code",
   "execution_count": 34,
   "metadata": {
    "ExecuteTime": {
     "end_time": "2024-05-06T20:19:11.457347Z",
     "start_time": "2024-05-06T20:18:47.023776Z"
    }
   },
   "outputs": [
    {
     "name": "stdout",
     "output_type": "stream",
     "text": [
      "Finished Training\n",
      "AUPRC: 28.63%\n",
      "Recall: 5.48%\n",
      "Precision: 80.00%\n"
     ]
    }
   ],
   "source": [
    "train_and_assess_model(random_forest, X_train, y_train, X_test, y_test)"
   ]
  },
  {
   "cell_type": "markdown",
   "metadata": {},
   "source": [
    "Algorytmy nienadzorowane dla wielu różnych parametrów z pyod zdawają się nie działać i nie są w stanie uzyskać nawet jednego true positive. Nawet zwykły las losowy jest lepszy w tej klasyfikacji i uzyskuje niezerowy recall, przy czym nie wpłynął jakoś bardzo źle na precision. Ponadto algorytm knn działa masakrycznie długo, szczególnie przy ewaluacji, więc nie będę go już dalej używał."
   ]
  },
  {
   "cell_type": "code",
   "execution_count": 35,
   "metadata": {
    "ExecuteTime": {
     "end_time": "2024-05-06T20:26:55.260333Z",
     "start_time": "2024-05-06T20:26:55.159634Z"
    }
   },
   "outputs": [],
   "source": [
    "from pyod.models.xgbod import XGBOD\n",
    "\n",
    "iforests = [IForest(n_estimators=k, contamination=contamination, behaviour=\"new\", random_state=0, n_jobs=-1) for k in [50, 100, 200, 300, 400, 500]]\n",
    "xgbod = XGBOD(estimator_list=iforests, scale_pos_weight=contamination)"
   ]
  },
  {
   "cell_type": "code",
   "execution_count": 36,
   "metadata": {},
   "outputs": [
    {
     "name": "stderr",
     "output_type": "stream",
     "text": [
      "C:\\Users\\michn\\PycharmProjects\\Machine-Learning-Fundamentals\\venv\\Lib\\site-packages\\xgboost\\core.py:160: UserWarning: [22:27:19] WARNING: C:\\buildkite-agent\\builds\\buildkite-windows-cpu-autoscaling-group-i-0b3782d1791676daf-1\\xgboost\\xgboost-ci-windows\\src\\learner.cc:742: \n",
      "Parameters: { \"silent\" } are not used.\n",
      "\n",
      "  warnings.warn(smsg, UserWarning)\n"
     ]
    },
    {
     "name": "stdout",
     "output_type": "stream",
     "text": [
      "Finished Training\n",
      "AUPRC: 0.79%\n",
      "Recall: 0.00%\n",
      "Precision: 0.00%\n"
     ]
    },
    {
     "name": "stderr",
     "output_type": "stream",
     "text": [
      "C:\\Users\\michn\\PycharmProjects\\Machine-Learning-Fundamentals\\venv\\Lib\\site-packages\\sklearn\\metrics\\_classification.py:1509: UndefinedMetricWarning: Precision is ill-defined and being set to 0.0 due to no predicted samples. Use `zero_division` parameter to control this behavior.\n",
      "  _warn_prf(average, modifier, f\"{metric.capitalize()} is\", len(result))\n"
     ]
    }
   ],
   "source": [
    "train_and_assess_model(xgbod, X_train, y_train, X_test, y_test)"
   ]
  },
  {
   "cell_type": "markdown",
   "metadata": {},
   "source": [
    "Jest dość cienko. Ponadto zauważyłem, że modele z pyod mają słabe wyniki nawet przy ewaluacji zbioru treningowego i nie są w stanie znależć outlierów. Dalej można spróbować pominąć podawanie parametru contamination, precision będzie przez to zawsze zaniżone, ale może przynajmiej poprawi się recall i odnajdzie się jakiś true positive."
   ]
  },
  {
   "cell_type": "markdown",
   "metadata": {},
   "source": [
    "W poprzednim zbiorze z danymi bankowymi, dane były dostarczone po transformacji PCA, jeśli cechy są mocno skorelowane, ta transformacja miała by sens użycia, szczególnie jeśli używamy isolation forest, który dzieli przestrzeń ortogonalnie. Po transforamcji przestrzeń będzie dzielona w kierunkach, w których występuje większa wariancja."
   ]
  },
  {
   "cell_type": "code",
   "execution_count": 42,
   "metadata": {
    "ExecuteTime": {
     "end_time": "2024-05-06T20:41:46.380310Z",
     "start_time": "2024-05-06T20:41:42.188451Z"
    }
   },
   "outputs": [
    {
     "data": {
      "text/plain": [
       "<Axes: >"
      ]
     },
     "execution_count": 42,
     "metadata": {},
     "output_type": "execute_result"
    },
    {
     "data": {
      "image/png": "[encoded data removed]",
      "text/plain": [
       "<Figure size 640x480 with 2 Axes>"
      ]
     },
     "metadata": {},
     "output_type": "display_data"
    }
   ],
   "source": [
    "import seaborn as sb\n",
    "\n",
    "corr = df_train.corr()\n",
    "sb.heatmap(corr[corr >= 0.5], cmap=\"Blues\", xticklabels=False, yticklabels=False)"
   ]
  },
  {
   "cell_type": "code",
   "execution_count": 43,
   "metadata": {
    "ExecuteTime": {
     "end_time": "2024-05-06T20:41:47.497060Z",
     "start_time": "2024-05-06T20:41:47.316268Z"
    }
   },
   "outputs": [
    {
     "data": {
      "text/plain": [
       "<Axes: >"
      ]
     },
     "execution_count": 43,
     "metadata": {},
     "output_type": "execute_result"
    },
    {
     "data": {
      "image/png": "[encoded data removed]",
      "text/plain": [
       "<Figure size 640x480 with 2 Axes>"
      ]
     },
     "metadata": {},
     "output_type": "display_data"
    }
   ],
   "source": [
    "sb.heatmap(corr[corr >= 0.7], cmap=\"Blues\", xticklabels=False, yticklabels=False)"
   ]
  },
  {
   "cell_type": "code",
   "execution_count": 44,
   "metadata": {
    "ExecuteTime": {
     "end_time": "2024-05-06T20:41:49.325123Z",
     "start_time": "2024-05-06T20:41:49.131160Z"
    }
   },
   "outputs": [
    {
     "data": {
      "text/plain": [
       "<Axes: >"
      ]
     },
     "execution_count": 44,
     "metadata": {},
     "output_type": "execute_result"
    },
    {
     "data": {
      "image/png": "[encoded data removed]",
      "text/plain": [
       "<Figure size 640x480 with 2 Axes>"
      ]
     },
     "metadata": {},
     "output_type": "display_data"
    }
   ],
   "source": [
    "sb.heatmap(corr[corr >= 0.9], cmap=\"Blues\", xticklabels=False, yticklabels=False)"
   ]
  },
  {
   "cell_type": "markdown",
   "metadata": {},
   "source": [
    "Zbyt dużych korelacji raczej nie ma ale można spróbować"
   ]
  },
  {
   "cell_type": "code",
   "execution_count": 51,
   "metadata": {
    "ExecuteTime": {
     "end_time": "2024-05-06T20:44:12.686703Z",
     "start_time": "2024-05-06T20:44:11.124193Z"
    }
   },
   "outputs": [],
   "source": [
    "from sklearn.decomposition import PCA\n",
    "from sklearn.pipeline import make_pipeline\n",
    "\n",
    "pipeline = make_pipeline(\n",
    "    PCA(n_components=50),\n",
    "    MinMaxScaler()\n",
    ")\n",
    "\n",
    "X_train = pipeline.fit_transform(df_train)\n",
    "X_test = pipeline.transform(df_test)"
   ]
  },
  {
   "cell_type": "code",
   "execution_count": 52,
   "metadata": {
    "ExecuteTime": {
     "end_time": "2024-05-06T20:44:23.715057Z",
     "start_time": "2024-05-06T20:44:18.883208Z"
    }
   },
   "outputs": [
    {
     "name": "stdout",
     "output_type": "stream",
     "text": [
      "Samples before ENN: 47831\n",
      "Samples after ENN: 47138\n"
     ]
    }
   ],
   "source": [
    "enn = EditedNearestNeighbours()\n",
    "print(f\"Samples before ENN: {len(X_train)}\")\n",
    "X_train, y_train = enn.fit_resample(X_train, y_train)\n",
    "print(f\"Samples after ENN: {len(X_train)}\")"
   ]
  },
  {
   "cell_type": "code",
   "execution_count": 53,
   "metadata": {
    "ExecuteTime": {
     "end_time": "2024-05-06T20:46:00.881882Z",
     "start_time": "2024-05-06T20:46:00.610545Z"
    }
   },
   "outputs": [],
   "source": [
    "iforest = IForest(n_estimators=500, behaviour=\"new\", random_state=0, n_jobs=-1)\n",
    "iforests = [IForest(n_estimators=k, behaviour=\"new\", random_state=0, n_jobs=-1) for k in [50, 100, 200, 300, 400, 500]]\n",
    "xgbod = XGBOD(estimator_list=iforests)\n",
    "random_forest = RandomForestClassifier(n_estimators=500, n_jobs=-1, random_state=0)"
   ]
  },
  {
   "cell_type": "code",
   "execution_count": 54,
   "metadata": {},
   "outputs": [
    {
     "name": "stdout",
     "output_type": "stream",
     "text": [
      "Finished Training\n",
      "AUPRC: 0.54%\n",
      "Recall: 4.11%\n",
      "Precision: 0.25%\n"
     ]
    }
   ],
   "source": [
    "train_and_assess_model(iforest, X_train, y_train, X_test, y_test)"
   ]
  },
  {
   "cell_type": "code",
   "execution_count": 55,
   "metadata": {},
   "outputs": [
    {
     "name": "stderr",
     "output_type": "stream",
     "text": [
      "C:\\Users\\michn\\PycharmProjects\\Machine-Learning-Fundamentals\\venv\\Lib\\site-packages\\xgboost\\core.py:160: UserWarning: [22:47:13] WARNING: C:\\buildkite-agent\\builds\\buildkite-windows-cpu-autoscaling-group-i-0b3782d1791676daf-1\\xgboost\\xgboost-ci-windows\\src\\learner.cc:742: \n",
      "Parameters: { \"silent\" } are not used.\n",
      "\n",
      "  warnings.warn(smsg, UserWarning)\n"
     ]
    },
    {
     "name": "stdout",
     "output_type": "stream",
     "text": [
      "Finished Training\n",
      "AUPRC: 6.11%\n",
      "Recall: 0.00%\n",
      "Precision: 0.00%\n"
     ]
    },
    {
     "name": "stderr",
     "output_type": "stream",
     "text": [
      "C:\\Users\\michn\\PycharmProjects\\Machine-Learning-Fundamentals\\venv\\Lib\\site-packages\\sklearn\\metrics\\_classification.py:1509: UndefinedMetricWarning: Precision is ill-defined and being set to 0.0 due to no predicted samples. Use `zero_division` parameter to control this behavior.\n",
      "  _warn_prf(average, modifier, f\"{metric.capitalize()} is\", len(result))\n"
     ]
    }
   ],
   "source": [
    "train_and_assess_model(xgbod, X_train, y_train, X_test, y_test)"
   ]
  },
  {
   "cell_type": "code",
   "execution_count": 56,
   "metadata": {
    "ExecuteTime": {
     "end_time": "2024-05-06T20:49:09.983977Z",
     "start_time": "2024-05-06T20:47:55.677002Z"
    }
   },
   "outputs": [
    {
     "name": "stdout",
     "output_type": "stream",
     "text": [
      "Finished Training\n",
      "AUPRC: 21.56%\n",
      "Recall: 6.85%\n",
      "Precision: 83.33%\n"
     ]
    }
   ],
   "source": [
    "train_and_assess_model(random_forest, X_train, y_train, X_test, y_test)"
   ]
  },
  {
   "cell_type": "markdown",
   "metadata": {},
   "source": [
    "Możliwe, że popełniłem jakiś błąd, ale modele do wykrywania outlierów, pod żadnym warunkiem nie chcą działać. W isolation forest widać przyrost recall, ale po wartości precision można stwierdzić, że decyzje o tym czy coś jest outlierem model podejmował praktycznie losowo. XGBOD też nie dał rady. Ostatecznie najlepszy okazał się być random forest, a po użyciu PCA widać nawet małą poprawę."
   ]
  }
 ],
 "metadata": {
  "kernelspec": {
   "display_name": "Python 3 (ipykernel)",
   "language": "python",
   "name": "python3"
  },
  "language_info": {
   "codemirror_mode": {
    "name": "ipython",
    "version": 3
   },
   "file_extension": ".py",
   "mimetype": "text/x-python",
   "name": "python",
   "nbconvert_exporter": "python",
   "pygments_lexer": "ipython3",
   "version": "3.11.2"
  }
 },
 "nbformat": 4,
 "nbformat_minor": 4
}
